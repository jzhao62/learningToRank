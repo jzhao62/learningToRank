{
 "cells": [
  {
   "cell_type": "markdown",
   "metadata": {},
   "source": [
    "# Learning to Rank using Linear Regression"
   ]
  },
  {
   "cell_type": "markdown",
   "metadata": {},
   "source": [
    "## Problem:\n",
    "\n",
    "### Tasks:\n",
    "The goal of this project is to use machine learning to solve a problem that arises in Information Retrieval,\n",
    "one known as the Learning to Rank (LeToR) problem. \n",
    "We have 4 subtasks to solve, which are as follows:\n",
    "1. Train a linear regression model on LeToR dataset using a closed-form solution.\n",
    "2. Train a linear regression model on the LeToR dataset using stochastic gradient descent (SGD).\n",
    "3. Train a linear regression model on a synthetic dataset using a closed-form solution.\n",
    "4. Train a linear regression model on the synthetic dataset using SGD.\n",
    "\n",
    "### Dataset:\n",
    "We have been provided with two datasets to model our supervised Machine learning algorithms, one of which is a real world dataset, while the other is generated using a mathematical formula and noise.\n",
    "\n",
    "#### 1. The LeToR Dataset\n",
    "\n",
    "#### 2. Synthetic Dataset\n",
    "\n",
    "\n",
    "Let us begin by modelling on the real world dataset, the LeToR dataset. We will try to apply linear regression with Gaussian basis function on this data set, using two approaches:\n",
    "1. Closed Form Solution\n",
    "2. Stochastic Gradient Descent Solution\n",
    "\n",
    "# LeToR Dataset\n",
    "\n",
    "Before we start formulating the solution, we must pre-process the dataset and convert it into an appropriate form, so that we can plug the data to learn the necessary model parameters. These are the steps that we shall implement before applying the closed form approach and stochastic gradient approach on the dataset.\n",
    "1. Read the dataset\n",
    "2. Train-Validation-Test Split\n",
    "3. Handling Non-linearity using Gaussian Basis Functions\n",
    "\n",
    "### A. Reading Data\n",
    "We have been given a text file 'Querylevelnorm.txt' containing the dataset. \n",
    "The entire dataset consists of 69623 query-document pairs(rows), each having 46 features.\n",
    "Example row:\n",
    "\n",
    "    2 qid:10032 1:0.056537 2:0.000000 3:0.666667 4:1.000000 ... 46:0.076923\n",
    "    #docid = GX029-35-5894638 inc = 0.0119881192468859 prob = 0.139842\n",
    "\n",
    "1. The first column is the output label(category) of the query, which we have to predict using our trained model. This is our independent variable y.\n",
    "\n",
    "2. The second column qid is the query id. It is only useful for indexing the dataset and not used in regression.\n",
    "\n",
    "3. The following 46 columns are the features. They are the 46-dimensional input vector x for our linear regression model. All the features are normalized to fall in the interval of [0, 1].\n",
    "\n",
    "We shall read the dataset from the text file and store it into a feature matrix(size = 69623 x 46) and an output label vector(size = 69623 x 1)."
   ]
  },
  {
   "cell_type": "code",
   "execution_count": 1,
   "metadata": {
    "collapsed": true
   },
   "outputs": [],
   "source": [
    "%matplotlib inline\n",
    "import numpy as np\n",
    "from sklearn.cluster import KMeans\n",
    "import matplotlib.pyplot as plt"
   ]
  },
  {
   "cell_type": "code",
   "execution_count": 2,
   "metadata": {
    "collapsed": true
   },
   "outputs": [],
   "source": [
    "def read_data_file(filename):\n",
    "    lines = [line.rstrip('\\n') for line in open(filename)]\n",
    "    input_matrix = []\n",
    "    output_vec = []\n",
    "    for line in lines:\n",
    "        token_list = line.split()\n",
    "        if len(token_list) == 57:\n",
    "            output_vec.append(int(token_list[0]))\n",
    "            input_vector = []\n",
    "            for i in range(2, 48):\n",
    "                token = token_list[i]\n",
    "                input_vector.append(float(token.split(':')[1]))\n",
    "            input_matrix.append(input_vector)\n",
    "\n",
    "    output_vec = np.array(output_vec)\n",
    "    input_matrix = np.array(input_matrix)\n",
    "    return input_matrix, output_vec"
   ]
  },
  {
   "cell_type": "code",
   "execution_count": 3,
   "metadata": {
    "collapsed": true
   },
   "outputs": [],
   "source": [
    "filename = 'Querylevelnorm.txt'\n",
    "feature_mat_letor, output_labels_letor = read_data_file(filename)"
   ]
  },
  {
   "cell_type": "markdown",
   "metadata": {},
   "source": [
    "### B. Train - Validation - Test Split \n",
    "__Shuffle the dataset__ before we split it into training-validation-test sets. We need to shuffle the dataset randomly, so that each of the 3 sets do not have any bias with respect to any specific output label. We shall use the __numpy.random.shuffle()__ for shuffling the given dataset.\n",
    "\n",
    "Split the feature matrix and the output vector into: Training data, Validation data, Test data, using the appropriate percentage distribution. We shall use a 80%-10%-10% split corresponding each category.\n",
    "We divide the dataset as 80-10-10 where the first 80% of the dataset is the Training data, and the next 10 percents being the validation and testing data respectively. This is a rough heuristics that we consider before carrying out\n",
    "our computation.\n",
    "\n",
    "We shall train our model on the training data, and validate the output against the validation data. We will try to tune the parameters of the model, in order to minimise the error of the trained model on the validation data. \n",
    "\n",
    "Once we have a tuned model with lowest validation error, we shall measure the performance of our model on the test data, and that error would be reported as generalised error of our model performance.\n",
    "\n",
    "#### Note: Never use the test data for choosing the best fit model. Keep the test dataset seperately, and use it only for reporting the final performance measures of our best model.\n"
   ]
  },
  {
   "cell_type": "code",
   "execution_count": 4,
   "metadata": {
    "collapsed": true
   },
   "outputs": [],
   "source": [
    "def random_shuffle_dataset(input_matrix, output_vec):\n",
    "    complete_train_data = np.insert(input_matrix, 0, output_vec, axis=1)\n",
    "    np.random.shuffle(complete_train_data)\n",
    "    training_labels = complete_train_data[:,0]\n",
    "    input_matrix = np.delete(complete_train_data,0,axis=1)\n",
    "    return input_matrix, training_labels\n",
    "\n",
    "def split_training_data(input_matrix, output_vec, train_percent, validation_percent):\n",
    "    input_matrix, output_vec = random_shuffle_dataset(input_matrix, output_vec)\n",
    "    training_data = []\n",
    "    training_labels = []\n",
    "    valid_data = []\n",
    "    valid_labels = []\n",
    "    test_data = []\n",
    "    test_labels = []\n",
    "\n",
    "    train_len = int(np.floor(float(train_percent) * len(input_matrix)))\n",
    "    for i in range(train_len):\n",
    "        training_data.append(input_matrix[i])\n",
    "        training_labels.append(output_vec[i])\n",
    "\n",
    "    validation_len = int(np.floor(validation_percent * len(input_matrix)))\n",
    "    for i in range(train_len, train_len+validation_len):\n",
    "        valid_data.append(input_matrix[i])\n",
    "        valid_labels.append(output_vec[i])\n",
    "\n",
    "    for i in range(train_len+validation_len, len(input_matrix)):\n",
    "        test_data.append(input_matrix[i])\n",
    "        test_labels.append(output_vec[i])\n",
    "\n",
    "    return np.array(training_data), np.array(training_labels), np.array(valid_data), np.array(valid_labels), np.array(test_data), np.array(test_labels)"
   ]
  },
  {
   "cell_type": "code",
   "execution_count": 5,
   "metadata": {
    "collapsed": false
   },
   "outputs": [
    {
     "name": "stdout",
     "output_type": "stream",
     "text": [
      "Number of samples in Training Data:  55698\n",
      "Number of samples in Validation Data:  6962\n",
      "Number of samples in Test Data:  6963\n"
     ]
    }
   ],
   "source": [
    "train_percent = 0.8\n",
    "validation_percent = 0.1\n",
    "training_data_letor, training_labels_letor, valid_data_letor, valid_labels_letor, test_data_letor, test_labels_letor = split_training_data(feature_mat_letor, output_labels_letor, train_percent, validation_percent)\n",
    "print \"Number of samples in Training Data: \", len(training_data_letor)\n",
    "print \"Number of samples in Validation Data: \", len(valid_data_letor)\n",
    "print \"Number of samples in Test Data: \", len(test_data_letor)"
   ]
  },
  {
   "cell_type": "markdown",
   "metadata": {},
   "source": [
    "### C. NonLinearity to Linearity using RBFs\n",
    "Construct design matrices using Gaussian Basis Functions(RBF) for the training data, validation data and the test data.\n",
    "\n",
    "For fitting the Gaussian basis functions(RBF Kernels) on the training dataset, we need to know the following:\n",
    "\n",
    "__1. Number of RBFs to fit__\n",
    "\n",
    "__2. Centers of these RBF Kernels__\n",
    "\n",
    "__3. Radius/Spread of these RBF Kernels__\n",
    "\n",
    "The art in fitting Machine Learning models, is to find the optimum values for these parameters, which is referred to as 'Tuning the Hyper parameters'. \n",
    "\n",
    "Let us underline the strategy below that we shall use to apply the Gaussian Basis Functions on the training data. Real world data is not linear, and has elements of non linearity in it, which cannot be modeled using linear functions.  __We fit RBF kernels on the training data, to introduce and account for the non-linearity component in the data. From there, once we have multiple Gaussian basis functions, the task is to fit a linear model for each of these functions.__\n",
    "Next we shall just follow the below steps to tune the hyperparameters, and find the optimum solutions for fitting the Gaussian functions.\n",
    "\n",
    "#### Choosing M : Number of RBFs to fit\n",
    "Number of RBF kernels determines the complexity of the model. We want to find data points which are close together, in a cluster, and fit a linear regression model over such clusters individually. The number of such clusters in the data set cannot be determined exactly, and we shall use an iterative method for determining this parameter M(num_basis).\n",
    "\n",
    "#### Choosing  µj : Choosing the centers of RBF Kernels\n",
    "   \n",
    "   ##### K-Means Clustering algorithm\n",
    "        a. For searching the clusters in dataset, we shall use the __K-Means Clustering algorithm__, which forms K clusters of given data points when we specify the input K. \n",
    "\n",
    "        b. It is a fast unsupervised algorithm, which assigns K random data points as centres of K clusters, and iteratively computes distance of each data point in the training set to each of these centres, and maps each data point to one of these centres based on the least square distance criteria. \n",
    "\n",
    "        c. The centre moves in each iteration, towards the centre of the cluster, until convergence and we have K clusters and K centres.\n",
    "\n",
    "        d. In our case, we shall cluster the data into M clusters, equivalent to the number of RBF kernels we are using in the iteration. \n",
    "\n",
    "        e. The clustering will return M centres of the clusters, which shall represent our µj. Note that µj is a data point from the training set, and hence is a vector of 46-dimension.\n",
    "\n",
    "#### Choosing  Σ : Radius/Spread of Gaussian Kernels\n",
    "    The variance of each column of the training data set i.e across each dimension of the data point shall denote the spread/radius of our gaussian basis function.  \n",
    "        Σ = [variance1      0         0      .......      0\n",
    "                 0      variance2     0      .......      0 \n",
    "                            0      variance3 .......\n",
    "                                             .......  variance46]\n",
    "       where varianceJ = variance of jth column of dataset\n",
    "       Hence Σ is a 46 x 46 diagonal matrix of variances.\n",
    "\n",
    "#### Computing the Design Matrix ϕ\n",
    "    Using these values of µj and Σ, we can now fit the RBF kernels on our data. We have all the necessary values for computing the design matrix(ϕ).\n",
    "        ϕj (x) = exp (−0.5* transpose(x − µj)* inverse(Σj) *(x − µj))\n",
    "        \n",
    "        Φ = [Φ0(x1)   ϕ1(x1)   ϕ2(x1) · · ·  ϕM−1(x1)\n",
    "             Φ0(x2)   ϕ1(x2)   ϕ2(x2) · · ·  ϕM−1(x2)\n",
    "             .\n",
    "             .\n",
    "             .\n",
    "             .\n",
    "             Φ0(xN)   ϕ1(xN)   ϕ2(xN) · · ·  ϕM−1(xN)]           \n",
    "       where M are the RBF Kernels and x1, x2.... xN are points from the training set."
   ]
  },
  {
   "cell_type": "code",
   "execution_count": 6,
   "metadata": {
    "collapsed": true
   },
   "outputs": [],
   "source": [
    "def k_means_clusters(train_data, training_labels, num_basis):\n",
    "    kmeans = KMeans(n_clusters=num_basis, random_state=0).fit(train_data)\n",
    "    labels = kmeans.labels_\n",
    "    cluster_centers = kmeans.cluster_centers_\n",
    "    clusters = {}\n",
    "    for i in range(num_basis):\n",
    "        clusters[i] = {'train_data':[], 'output' : [], 'center' : cluster_centers[i]}\n",
    "\n",
    "        for j in range(len(train_data)):\n",
    "            if labels[j] == i:\n",
    "                clusters[i]['train_data'].append(train_data[j])\n",
    "                clusters[i]['output'].append(training_labels[j])\n",
    "    return cluster_centers"
   ]
  },
  {
   "cell_type": "code",
   "execution_count": 7,
   "metadata": {
    "collapsed": true
   },
   "outputs": [],
   "source": [
    "def create_design_matrix_train_data(train_data, training_labels, lamda, num_basis):\n",
    "    variance = train_data.var(axis=0) \n",
    "    sigma = variance * np.identity(len(train_data[0]))\n",
    "    sigma = sigma + 0.001 * np.identity(len(train_data[0])) # Add a small quantity to avoid 0 values in variance matrix.\n",
    "    sigma_inv = np.linalg.inv(sigma)\n",
    "\n",
    "    rand_centers = k_means_clusters(train_data, training_labels, num_basis)\n",
    "    rand_centers = np.array(rand_centers)\n",
    "    design_matrix=np.zeros((len(train_data),num_basis));\n",
    "\n",
    "    for i in range(len(train_data)):\n",
    "        for j in range(num_basis):\n",
    "            if j==0:\n",
    "                design_matrix[i][j] = 1;\n",
    "            else:\n",
    "                x_mu = train_data[i]-rand_centers[j]\n",
    "                x_mu_trans = x_mu.transpose()\n",
    "                temp1 = np.dot(sigma_inv, x_mu_trans)\n",
    "                temp2 = np.dot(x_mu, temp1)\n",
    "                design_matrix[i][j] = np.exp(((-0.5)*temp2))\n",
    "                \n",
    "    return design_matrix, sigma_inv, rand_centers"
   ]
  },
  {
   "cell_type": "code",
   "execution_count": 8,
   "metadata": {
    "collapsed": true
   },
   "outputs": [],
   "source": [
    "def create_design_matrix_data(data, sigma_inv, rand_centers, num_basis):\n",
    "    design_matrix = np.zeros((len(data),num_basis))\n",
    "    for i in range(len(data)):\n",
    "        for j in range(num_basis):\n",
    "            if j==0:\n",
    "                design_matrix[i][j] = 1;\n",
    "            else:\n",
    "                x_mu = data[i] - rand_centers[j]\n",
    "                x_mu_trans = x_mu.transpose()\n",
    "                temp1_valid = np.dot(sigma_inv, x_mu_trans)\n",
    "                temp2_valid = np.dot(x_mu, temp1_valid)\n",
    "                design_matrix[i][j] = np.exp(((-0.5) * temp2_valid))\n",
    "    return design_matrix"
   ]
  },
  {
   "cell_type": "code",
   "execution_count": 9,
   "metadata": {
    "collapsed": true
   },
   "outputs": [],
   "source": [
    "def calculate_error(input_matrix, weights, output_vec):\n",
    "    predicted_output = np.dot(weights, input_matrix.transpose())\n",
    "    sq_error_sum = np.sum(np.square(output_vec - predicted_output))\n",
    "    error = np.sqrt(float(sq_error_sum)/len(output_vec))\n",
    "    return error"
   ]
  },
  {
   "cell_type": "markdown",
   "metadata": {},
   "source": [
    "For plotting the data, we have written a function below, which plots the Training RMSE, Validation set RMSE agains the model complexity."
   ]
  },
  {
   "cell_type": "code",
   "execution_count": 10,
   "metadata": {
    "collapsed": false
   },
   "outputs": [],
   "source": [
    "def plot_data(y_values1, y_values2, lamda, label1, label2, axis_dim):\n",
    "    plt.plot(y_values1, 'ro',label=label1)\n",
    "    plt.plot(y_values2, 'b-', label = label2)\n",
    "    plt.axis(axis_dim)\n",
    "    plt.ylabel('RMSE')\n",
    "    plt.xlabel('Model Complexity')\n",
    "    plt.title('Lambda = ' + str(lamda))\n",
    "    l = plt.legend()\n",
    "    plt.show()"
   ]
  },
  {
   "cell_type": "markdown",
   "metadata": {},
   "source": [
    "### Regularization Parameter (λ):\n",
    "The λ parameter is the regularisation parameter, and we can tune it by trying out different values for λ. It basically tries to create a sparse solution, by eliminating features which do not have much contribution to the linear regression model. \n",
    "    We try multiple linear regression models with iterative values of λ and M (no. of basis functions). For λ, which has to be between 0 and 1, we start with a small value 0.001 and increase it logarithmically, testing for λ in [0.001, 0.01, 0.1, 0.5, 1]\n",
    "\n",
    "### 1. Train a linear regression model on LeToR dataset using a closed-form solution\n",
    "### Closed Form Solution:\n",
    "i. Next for closed form solution, we compute the weights for given training data and set hyper parameters using the formula:\n",
    "\n",
    "        w∗ = inv((λI + transpose(Φ) * Φ))* transpose(Φ)*y   \n",
    "        where I is identity matrix;\n",
    "        Φ is the design matrix of training data representation in M dimensions using RBF Kernels\n",
    "\n",
    "ii. These values of weights determine the contribution of each Gaussian Basis Function(RBF) in our linear regression model trained on the entire training data.\n",
    "\n",
    "iii. We predict the output labels using these weights and the design matrix Φ, to determine how erronous is the prediction of our model from the actual label.\n",
    "            y(x, w) = transpose(w*) * ϕ(x)\n",
    "iv. We determine the error in predictions using Root Mean Squared Error(RMSE), which is infact the square root of sum of squared errors of our model predictions on each data point in the training set.\n",
    "\n",
    "v. Next, we have to test this model with the set λ and M values on the validation set. For this, we use the same µj and Σ values, to convert the 46 dimensional data to M dimensional validation set.\n",
    "\n",
    "vi. We use the same steps, as for training data, to compute the predictions on the validation set and calculate the RMSE on the validation set.\n",
    "\n",
    "vii. We repeat all the above steps for different values of number of basis functions M and regularisation parameter λ, and store the training RMSE and validation RMSE for each combination.\n",
    "\n",
    "viii. We pick the model which has LEAST RMSE ON VALIDATION SET as our final solution, and store the values of M, λ and weights w*. "
   ]
  },
  {
   "cell_type": "code",
   "execution_count": 11,
   "metadata": {
    "collapsed": true
   },
   "outputs": [],
   "source": [
    "def closed_form_solution_training_phase(design_matrix, sigma_inv, training_labels, lamda, num_basis):\n",
    "    design_matrix_trans = design_matrix.transpose()\n",
    "    regularisation_mat = lamda * np.identity(num_basis)\n",
    "    pinv_temp = np.dot(design_matrix_trans, design_matrix) + regularisation_mat\n",
    "    pinv = np.linalg.inv(pinv_temp)\n",
    "    out_temp = np.dot(design_matrix_trans, training_labels)\n",
    "    weights = np.dot(pinv, out_temp)\n",
    "    train_error = calculate_error(design_matrix, weights, training_labels)\n",
    "    return weights, train_error"
   ]
  },
  {
   "cell_type": "markdown",
   "metadata": {},
   "source": [
    "As discussed above, we shall iteratively choose value of the regularisation parameter(λ) and the number of basis functions. For each value of (λ, M) we shall train our model using the closed form solution, and store the model performance parameters such as RMSE train and RMSE Validation, corresponding to these parameters.\n",
    "\n",
    "__ Note: For choosing the optimum model, we shall choose the model which performs best on the VALIDATION SET and not on the training set. Hence, choose the trained model which has the least RMSE Validation value.__"
   ]
  },
  {
   "cell_type": "code",
   "execution_count": 12,
   "metadata": {
    "collapsed": false
   },
   "outputs": [
    {
     "name": "stdout",
     "output_type": "stream",
     "text": [
      "λ =  0.001\n",
      "λ =  0.01\n",
      "λ =  0.1\n",
      "λ =  0.5\n",
      "λ =  1\n"
     ]
    }
   ],
   "source": [
    "lamda_values = [0.001, 0.01, 0.1, 0.5, 1]\n",
    "error_matrix_letor = {'closed_form':{'train':{}, 'validation':{}}, 'sgd': {'train':{}, 'validation':{}}}\n",
    "for lamda in lamda_values:\n",
    "    print \"λ = \", lamda\n",
    "    error_matrix_letor['closed_form']['train'][lamda] = []\n",
    "    error_matrix_letor['closed_form']['validation'][lamda] = []\n",
    "    for num_basis in range(1, 31):\n",
    "        design_matrix_train_letor, sigma_inv_letor, rbf_centers_letor = create_design_matrix_train_data(training_data_letor, training_labels_letor, lamda, num_basis)\n",
    "        weights_letor, rmse_train_letor = closed_form_solution_training_phase(design_matrix_train_letor, sigma_inv_letor, training_labels_letor, lamda, num_basis)\n",
    "        design_matrix_validation_letor = create_design_matrix_data(valid_data_letor, sigma_inv_letor, rbf_centers_letor, num_basis)\n",
    "        rmse_validation_letor = calculate_error(design_matrix_validation_letor, weights_letor, valid_labels_letor)\n",
    "        error_matrix_letor['closed_form']['train'][lamda].append(rmse_train_letor)\n",
    "        error_matrix_letor['closed_form']['validation'][lamda].append(rmse_validation_letor)"
   ]
  },
  {
   "cell_type": "markdown",
   "metadata": {},
   "source": [
    "We have stored the model performance corresponding to each trained model, with unique combination of (M, λ) in the error_matrix_letor['closed_form'] dictionary.\n",
    "\n",
    "We shall now plot the model performance parameters, and shall study how the performance changes as the model complexity increases for different values of regularisation parameter.\n",
    "This will enable us to choose the best trained model which fits the given LeToR dataset optimally."
   ]
  },
  {
   "cell_type": "code",
   "execution_count": 14,
   "metadata": {
    "collapsed": false
   },
   "outputs": [
    {
     "name": "stdout",
     "output_type": "stream",
     "text": [
      "Plot for RMSE Validation across different number of Gaussian Basis Functions, for λ =  0.001\n"
     ]
    },
    {
     "data": {
      "image/png": "[encoded data removed]",
      "text/plain": [
       "<matplotlib.figure.Figure at 0x10ac752d0>"
      ]
     },
     "metadata": {},
     "output_type": "display_data"
    },
    {
     "name": "stdout",
     "output_type": "stream",
     "text": [
      "Plot for RMSE Validation across different number of Gaussian Basis Functions, for λ =  0.01\n"
     ]
    },
    {
     "data": {
      "image/png": "[encoded data removed]",
      "text/plain": [
       "<matplotlib.figure.Figure at 0x10f29cd90>"
      ]
     },
     "metadata": {},
     "output_type": "display_data"
    },
    {
     "name": "stdout",
     "output_type": "stream",
     "text": [
      "Plot for RMSE Validation across different number of Gaussian Basis Functions, for λ =  0.1\n"
     ]
    },
    {
     "data": {
      "image/png": "[encoded data removed]",
      "text/plain": [
       "<matplotlib.figure.Figure at 0x10f6e5ed0>"
      ]
     },
     "metadata": {},
     "output_type": "display_data"
    },
    {
     "name": "stdout",
     "output_type": "stream",
     "text": [
      "Plot for RMSE Validation across different number of Gaussian Basis Functions, for λ =  0.5\n"
     ]
    },
    {
     "data": {
      "image/png": "[encoded data removed]",
      "text/plain": [
       "<matplotlib.figure.Figure at 0x10f886350>"
      ]
     },
     "metadata": {},
     "output_type": "display_data"
    },
    {
     "name": "stdout",
     "output_type": "stream",
     "text": [
      "Plot for RMSE Validation across different number of Gaussian Basis Functions, for λ =  1\n"
     ]
    },
    {
     "data": {
      "image/png": "[encoded data removed]",
      "text/plain": [
       "<matplotlib.figure.Figure at 0x10f87cd10>"
      ]
     },
     "metadata": {},
     "output_type": "display_data"
    }
   ],
   "source": [
    "for lamda in sorted(error_matrix_letor['closed_form']['train']):\n",
    "    print \"Plot for RMSE Validation across different number of Gaussian Basis Functions, for λ = \", lamda\n",
    "    plot_data(error_matrix_letor['closed_form']['validation'][lamda],error_matrix_letor['closed_form']['train'][lamda], lamda, 'RMSE Validation', 'RMSE Training', [0, 30, 0.5, 0.7])"
   ]
  },
  {
   "cell_type": "markdown",
   "metadata": {},
   "source": [
    "Let us inspect all the values of RMSE Training(Erms,t) and RMSE Validation(Erms,v) for different values of regularisation parameter and number of basis functions M.\n",
    "\n",
    "__Note that, we shall choose the model as the best fit, which has least RMSE Validation(Erms,v). As stated earlier, the test dataset has been secluded until this spot, and we shall only calculate the final model performnace on it.__"
   ]
  },
  {
   "cell_type": "code",
   "execution_count": 23,
   "metadata": {
    "collapsed": false
   },
   "outputs": [
    {
     "name": "stdout",
     "output_type": "stream",
     "text": [
      "RMSE Training for different values of λ(column headers) and Number of basis Functions(row headers)\n"
     ]
    },
    {
     "data": {
      "text/html": [
       "<div>\n",
       "<table border=\"1\" class=\"dataframe\">\n",
       "  <thead>\n",
       "    <tr style=\"text-align: right;\">\n",
       "      <th></th>\n",
       "      <th>0.001</th>\n",
       "      <th>0.01</th>\n",
       "      <th>0.1</th>\n",
       "      <th>0.5</th>\n",
       "      <th>1.0</th>\n",
       "    </tr>\n",
       "  </thead>\n",
       "  <tbody>\n",
       "    <tr>\n",
       "      <th>1</th>\n",
       "      <td>0.572728</td>\n",
       "      <td>0.572728</td>\n",
       "      <td>0.572728</td>\n",
       "      <td>0.572728</td>\n",
       "      <td>0.572728</td>\n",
       "    </tr>\n",
       "    <tr>\n",
       "      <th>2</th>\n",
       "      <td>0.572715</td>\n",
       "      <td>0.572715</td>\n",
       "      <td>0.572715</td>\n",
       "      <td>0.572715</td>\n",
       "      <td>0.572715</td>\n",
       "    </tr>\n",
       "    <tr>\n",
       "      <th>3</th>\n",
       "      <td>0.572651</td>\n",
       "      <td>0.572651</td>\n",
       "      <td>0.572651</td>\n",
       "      <td>0.572652</td>\n",
       "      <td>0.572652</td>\n",
       "    </tr>\n",
       "    <tr>\n",
       "      <th>4</th>\n",
       "      <td>0.572412</td>\n",
       "      <td>0.572412</td>\n",
       "      <td>0.572412</td>\n",
       "      <td>0.572413</td>\n",
       "      <td>0.572416</td>\n",
       "    </tr>\n",
       "    <tr>\n",
       "      <th>5</th>\n",
       "      <td>0.572426</td>\n",
       "      <td>0.572427</td>\n",
       "      <td>0.572428</td>\n",
       "      <td>0.572429</td>\n",
       "      <td>0.572431</td>\n",
       "    </tr>\n",
       "    <tr>\n",
       "      <th>6</th>\n",
       "      <td>0.572687</td>\n",
       "      <td>0.572690</td>\n",
       "      <td>0.572694</td>\n",
       "      <td>0.572700</td>\n",
       "      <td>0.572704</td>\n",
       "    </tr>\n",
       "    <tr>\n",
       "      <th>7</th>\n",
       "      <td>0.572382</td>\n",
       "      <td>0.572389</td>\n",
       "      <td>0.572401</td>\n",
       "      <td>0.572413</td>\n",
       "      <td>0.572418</td>\n",
       "    </tr>\n",
       "    <tr>\n",
       "      <th>8</th>\n",
       "      <td>0.572376</td>\n",
       "      <td>0.572383</td>\n",
       "      <td>0.572402</td>\n",
       "      <td>0.572415</td>\n",
       "      <td>0.572420</td>\n",
       "    </tr>\n",
       "    <tr>\n",
       "      <th>9</th>\n",
       "      <td>0.572564</td>\n",
       "      <td>0.572571</td>\n",
       "      <td>0.572588</td>\n",
       "      <td>0.572597</td>\n",
       "      <td>0.572600</td>\n",
       "    </tr>\n",
       "    <tr>\n",
       "      <th>10</th>\n",
       "      <td>0.572018</td>\n",
       "      <td>0.572022</td>\n",
       "      <td>0.572048</td>\n",
       "      <td>0.572106</td>\n",
       "      <td>0.572140</td>\n",
       "    </tr>\n",
       "    <tr>\n",
       "      <th>11</th>\n",
       "      <td>0.571928</td>\n",
       "      <td>0.571934</td>\n",
       "      <td>0.571957</td>\n",
       "      <td>0.572005</td>\n",
       "      <td>0.572039</td>\n",
       "    </tr>\n",
       "    <tr>\n",
       "      <th>12</th>\n",
       "      <td>0.571637</td>\n",
       "      <td>0.571643</td>\n",
       "      <td>0.571675</td>\n",
       "      <td>0.571781</td>\n",
       "      <td>0.571874</td>\n",
       "    </tr>\n",
       "    <tr>\n",
       "      <th>13</th>\n",
       "      <td>0.571634</td>\n",
       "      <td>0.571640</td>\n",
       "      <td>0.571707</td>\n",
       "      <td>0.571911</td>\n",
       "      <td>0.572048</td>\n",
       "    </tr>\n",
       "    <tr>\n",
       "      <th>14</th>\n",
       "      <td>0.571539</td>\n",
       "      <td>0.571544</td>\n",
       "      <td>0.571575</td>\n",
       "      <td>0.571664</td>\n",
       "      <td>0.571748</td>\n",
       "    </tr>\n",
       "    <tr>\n",
       "      <th>15</th>\n",
       "      <td>0.571900</td>\n",
       "      <td>0.571905</td>\n",
       "      <td>0.571943</td>\n",
       "      <td>0.572022</td>\n",
       "      <td>0.572057</td>\n",
       "    </tr>\n",
       "    <tr>\n",
       "      <th>16</th>\n",
       "      <td>0.571159</td>\n",
       "      <td>0.571166</td>\n",
       "      <td>0.571235</td>\n",
       "      <td>0.571406</td>\n",
       "      <td>0.571522</td>\n",
       "    </tr>\n",
       "    <tr>\n",
       "      <th>17</th>\n",
       "      <td>0.571211</td>\n",
       "      <td>0.571216</td>\n",
       "      <td>0.571276</td>\n",
       "      <td>0.571382</td>\n",
       "      <td>0.571473</td>\n",
       "    </tr>\n",
       "    <tr>\n",
       "      <th>18</th>\n",
       "      <td>0.571131</td>\n",
       "      <td>0.571136</td>\n",
       "      <td>0.571191</td>\n",
       "      <td>0.571368</td>\n",
       "      <td>0.571490</td>\n",
       "    </tr>\n",
       "    <tr>\n",
       "      <th>19</th>\n",
       "      <td>0.571432</td>\n",
       "      <td>0.571448</td>\n",
       "      <td>0.571489</td>\n",
       "      <td>0.571620</td>\n",
       "      <td>0.571701</td>\n",
       "    </tr>\n",
       "    <tr>\n",
       "      <th>20</th>\n",
       "      <td>0.570540</td>\n",
       "      <td>0.570559</td>\n",
       "      <td>0.570616</td>\n",
       "      <td>0.570804</td>\n",
       "      <td>0.570941</td>\n",
       "    </tr>\n",
       "    <tr>\n",
       "      <th>21</th>\n",
       "      <td>0.571058</td>\n",
       "      <td>0.571097</td>\n",
       "      <td>0.571161</td>\n",
       "      <td>0.571291</td>\n",
       "      <td>0.571398</td>\n",
       "    </tr>\n",
       "    <tr>\n",
       "      <th>22</th>\n",
       "      <td>0.570631</td>\n",
       "      <td>0.570640</td>\n",
       "      <td>0.570709</td>\n",
       "      <td>0.570858</td>\n",
       "      <td>0.570951</td>\n",
       "    </tr>\n",
       "    <tr>\n",
       "      <th>23</th>\n",
       "      <td>0.570767</td>\n",
       "      <td>0.570809</td>\n",
       "      <td>0.570888</td>\n",
       "      <td>0.571071</td>\n",
       "      <td>0.571181</td>\n",
       "    </tr>\n",
       "    <tr>\n",
       "      <th>24</th>\n",
       "      <td>0.570344</td>\n",
       "      <td>0.570371</td>\n",
       "      <td>0.570445</td>\n",
       "      <td>0.570610</td>\n",
       "      <td>0.570745</td>\n",
       "    </tr>\n",
       "    <tr>\n",
       "      <th>25</th>\n",
       "      <td>0.570355</td>\n",
       "      <td>0.570383</td>\n",
       "      <td>0.570435</td>\n",
       "      <td>0.570587</td>\n",
       "      <td>0.570708</td>\n",
       "    </tr>\n",
       "    <tr>\n",
       "      <th>26</th>\n",
       "      <td>0.571187</td>\n",
       "      <td>0.571219</td>\n",
       "      <td>0.571301</td>\n",
       "      <td>0.571472</td>\n",
       "      <td>0.571588</td>\n",
       "    </tr>\n",
       "    <tr>\n",
       "      <th>27</th>\n",
       "      <td>0.570141</td>\n",
       "      <td>0.570162</td>\n",
       "      <td>0.570223</td>\n",
       "      <td>0.570397</td>\n",
       "      <td>0.570530</td>\n",
       "    </tr>\n",
       "    <tr>\n",
       "      <th>28</th>\n",
       "      <td>0.570028</td>\n",
       "      <td>0.570055</td>\n",
       "      <td>0.570119</td>\n",
       "      <td>0.570284</td>\n",
       "      <td>0.570403</td>\n",
       "    </tr>\n",
       "    <tr>\n",
       "      <th>29</th>\n",
       "      <td>0.570957</td>\n",
       "      <td>0.570978</td>\n",
       "      <td>0.571043</td>\n",
       "      <td>0.571209</td>\n",
       "      <td>0.571337</td>\n",
       "    </tr>\n",
       "    <tr>\n",
       "      <th>30</th>\n",
       "      <td>0.569910</td>\n",
       "      <td>0.569939</td>\n",
       "      <td>0.570004</td>\n",
       "      <td>0.570172</td>\n",
       "      <td>0.570294</td>\n",
       "    </tr>\n",
       "  </tbody>\n",
       "</table>\n",
       "</div>"
      ],
      "text/plain": [
       "       0.001     0.010     0.100     0.500     1.000\n",
       "1   0.572728  0.572728  0.572728  0.572728  0.572728\n",
       "2   0.572715  0.572715  0.572715  0.572715  0.572715\n",
       "3   0.572651  0.572651  0.572651  0.572652  0.572652\n",
       "4   0.572412  0.572412  0.572412  0.572413  0.572416\n",
       "5   0.572426  0.572427  0.572428  0.572429  0.572431\n",
       "6   0.572687  0.572690  0.572694  0.572700  0.572704\n",
       "7   0.572382  0.572389  0.572401  0.572413  0.572418\n",
       "8   0.572376  0.572383  0.572402  0.572415  0.572420\n",
       "9   0.572564  0.572571  0.572588  0.572597  0.572600\n",
       "10  0.572018  0.572022  0.572048  0.572106  0.572140\n",
       "11  0.571928  0.571934  0.571957  0.572005  0.572039\n",
       "12  0.571637  0.571643  0.571675  0.571781  0.571874\n",
       "13  0.571634  0.571640  0.571707  0.571911  0.572048\n",
       "14  0.571539  0.571544  0.571575  0.571664  0.571748\n",
       "15  0.571900  0.571905  0.571943  0.572022  0.572057\n",
       "16  0.571159  0.571166  0.571235  0.571406  0.571522\n",
       "17  0.571211  0.571216  0.571276  0.571382  0.571473\n",
       "18  0.571131  0.571136  0.571191  0.571368  0.571490\n",
       "19  0.571432  0.571448  0.571489  0.571620  0.571701\n",
       "20  0.570540  0.570559  0.570616  0.570804  0.570941\n",
       "21  0.571058  0.571097  0.571161  0.571291  0.571398\n",
       "22  0.570631  0.570640  0.570709  0.570858  0.570951\n",
       "23  0.570767  0.570809  0.570888  0.571071  0.571181\n",
       "24  0.570344  0.570371  0.570445  0.570610  0.570745\n",
       "25  0.570355  0.570383  0.570435  0.570587  0.570708\n",
       "26  0.571187  0.571219  0.571301  0.571472  0.571588\n",
       "27  0.570141  0.570162  0.570223  0.570397  0.570530\n",
       "28  0.570028  0.570055  0.570119  0.570284  0.570403\n",
       "29  0.570957  0.570978  0.571043  0.571209  0.571337\n",
       "30  0.569910  0.569939  0.570004  0.570172  0.570294"
      ]
     },
     "execution_count": 23,
     "metadata": {},
     "output_type": "execute_result"
    }
   ],
   "source": []
  },
  {
   "cell_type": "code",
   "execution_count": 24,
   "metadata": {
    "collapsed": false
   },
   "outputs": [
    {
     "name": "stdout",
     "output_type": "stream",
     "text": [
      "RMSE Validation for different values of λ(column headers) and Number of basis Functions(row headers)\n"
     ]
    },
    {
     "data": {
      "text/html": [
       "<div>\n",
       "<table border=\"1\" class=\"dataframe\">\n",
       "  <thead>\n",
       "    <tr style=\"text-align: right;\">\n",
       "      <th></th>\n",
       "      <th>0.001</th>\n",
       "      <th>0.01</th>\n",
       "      <th>0.1</th>\n",
       "      <th>0.5</th>\n",
       "      <th>1.0</th>\n",
       "    </tr>\n",
       "  </thead>\n",
       "  <tbody>\n",
       "    <tr>\n",
       "      <th>1</th>\n",
       "      <td>0.562496</td>\n",
       "      <td>0.562496</td>\n",
       "      <td>0.562496</td>\n",
       "      <td>0.562496</td>\n",
       "      <td>0.562495</td>\n",
       "    </tr>\n",
       "    <tr>\n",
       "      <th>2</th>\n",
       "      <td>0.562509</td>\n",
       "      <td>0.562509</td>\n",
       "      <td>0.562508</td>\n",
       "      <td>0.562507</td>\n",
       "      <td>0.562506</td>\n",
       "    </tr>\n",
       "    <tr>\n",
       "      <th>3</th>\n",
       "      <td>0.562437</td>\n",
       "      <td>0.562434</td>\n",
       "      <td>0.562431</td>\n",
       "      <td>0.562430</td>\n",
       "      <td>0.562430</td>\n",
       "    </tr>\n",
       "    <tr>\n",
       "      <th>4</th>\n",
       "      <td>0.562251</td>\n",
       "      <td>0.562251</td>\n",
       "      <td>0.562250</td>\n",
       "      <td>0.562247</td>\n",
       "      <td>0.562245</td>\n",
       "    </tr>\n",
       "    <tr>\n",
       "      <th>5</th>\n",
       "      <td>0.562275</td>\n",
       "      <td>0.562267</td>\n",
       "      <td>0.562264</td>\n",
       "      <td>0.562258</td>\n",
       "      <td>0.562255</td>\n",
       "    </tr>\n",
       "    <tr>\n",
       "      <th>6</th>\n",
       "      <td>0.562569</td>\n",
       "      <td>0.562555</td>\n",
       "      <td>0.562541</td>\n",
       "      <td>0.562529</td>\n",
       "      <td>0.562525</td>\n",
       "    </tr>\n",
       "    <tr>\n",
       "      <th>7</th>\n",
       "      <td>0.562309</td>\n",
       "      <td>0.562290</td>\n",
       "      <td>0.562275</td>\n",
       "      <td>0.562270</td>\n",
       "      <td>0.562268</td>\n",
       "    </tr>\n",
       "    <tr>\n",
       "      <th>8</th>\n",
       "      <td>0.562296</td>\n",
       "      <td>0.562287</td>\n",
       "      <td>0.562279</td>\n",
       "      <td>0.562272</td>\n",
       "      <td>0.562269</td>\n",
       "    </tr>\n",
       "    <tr>\n",
       "      <th>9</th>\n",
       "      <td>0.562414</td>\n",
       "      <td>0.562408</td>\n",
       "      <td>0.562409</td>\n",
       "      <td>0.562408</td>\n",
       "      <td>0.562407</td>\n",
       "    </tr>\n",
       "    <tr>\n",
       "      <th>10</th>\n",
       "      <td>0.562115</td>\n",
       "      <td>0.562131</td>\n",
       "      <td>0.562178</td>\n",
       "      <td>0.562222</td>\n",
       "      <td>0.562231</td>\n",
       "    </tr>\n",
       "    <tr>\n",
       "      <th>11</th>\n",
       "      <td>0.562008</td>\n",
       "      <td>0.562010</td>\n",
       "      <td>0.562040</td>\n",
       "      <td>0.562073</td>\n",
       "      <td>0.562085</td>\n",
       "    </tr>\n",
       "    <tr>\n",
       "      <th>12</th>\n",
       "      <td>0.561942</td>\n",
       "      <td>0.561930</td>\n",
       "      <td>0.561962</td>\n",
       "      <td>0.562026</td>\n",
       "      <td>0.562066</td>\n",
       "    </tr>\n",
       "    <tr>\n",
       "      <th>13</th>\n",
       "      <td>0.561714</td>\n",
       "      <td>0.561719</td>\n",
       "      <td>0.561779</td>\n",
       "      <td>0.561911</td>\n",
       "      <td>0.561989</td>\n",
       "    </tr>\n",
       "    <tr>\n",
       "      <th>14</th>\n",
       "      <td>0.561922</td>\n",
       "      <td>0.561865</td>\n",
       "      <td>0.561818</td>\n",
       "      <td>0.561860</td>\n",
       "      <td>0.561901</td>\n",
       "    </tr>\n",
       "    <tr>\n",
       "      <th>15</th>\n",
       "      <td>0.562057</td>\n",
       "      <td>0.562006</td>\n",
       "      <td>0.561973</td>\n",
       "      <td>0.562037</td>\n",
       "      <td>0.562066</td>\n",
       "    </tr>\n",
       "    <tr>\n",
       "      <th>16</th>\n",
       "      <td>0.561649</td>\n",
       "      <td>0.561597</td>\n",
       "      <td>0.561609</td>\n",
       "      <td>0.561727</td>\n",
       "      <td>0.561796</td>\n",
       "    </tr>\n",
       "    <tr>\n",
       "      <th>17</th>\n",
       "      <td>0.562116</td>\n",
       "      <td>0.562055</td>\n",
       "      <td>0.561948</td>\n",
       "      <td>0.561932</td>\n",
       "      <td>0.561941</td>\n",
       "    </tr>\n",
       "    <tr>\n",
       "      <th>18</th>\n",
       "      <td>0.561564</td>\n",
       "      <td>0.561560</td>\n",
       "      <td>0.561568</td>\n",
       "      <td>0.561683</td>\n",
       "      <td>0.561753</td>\n",
       "    </tr>\n",
       "    <tr>\n",
       "      <th>19</th>\n",
       "      <td>0.561688</td>\n",
       "      <td>0.561581</td>\n",
       "      <td>0.561587</td>\n",
       "      <td>0.561726</td>\n",
       "      <td>0.561803</td>\n",
       "    </tr>\n",
       "    <tr>\n",
       "      <th>20</th>\n",
       "      <td>0.561066</td>\n",
       "      <td>0.561018</td>\n",
       "      <td>0.561028</td>\n",
       "      <td>0.561207</td>\n",
       "      <td>0.561321</td>\n",
       "    </tr>\n",
       "    <tr>\n",
       "      <th>21</th>\n",
       "      <td>0.561963</td>\n",
       "      <td>0.561584</td>\n",
       "      <td>0.561571</td>\n",
       "      <td>0.561651</td>\n",
       "      <td>0.561706</td>\n",
       "    </tr>\n",
       "    <tr>\n",
       "      <th>22</th>\n",
       "      <td>0.561296</td>\n",
       "      <td>0.561266</td>\n",
       "      <td>0.561246</td>\n",
       "      <td>0.561342</td>\n",
       "      <td>0.561399</td>\n",
       "    </tr>\n",
       "    <tr>\n",
       "      <th>23</th>\n",
       "      <td>0.561297</td>\n",
       "      <td>0.561278</td>\n",
       "      <td>0.561310</td>\n",
       "      <td>0.561471</td>\n",
       "      <td>0.561551</td>\n",
       "    </tr>\n",
       "    <tr>\n",
       "      <th>24</th>\n",
       "      <td>0.561056</td>\n",
       "      <td>0.561025</td>\n",
       "      <td>0.561056</td>\n",
       "      <td>0.561185</td>\n",
       "      <td>0.561271</td>\n",
       "    </tr>\n",
       "    <tr>\n",
       "      <th>25</th>\n",
       "      <td>0.561367</td>\n",
       "      <td>0.561341</td>\n",
       "      <td>0.561343</td>\n",
       "      <td>0.561368</td>\n",
       "      <td>0.561383</td>\n",
       "    </tr>\n",
       "    <tr>\n",
       "      <th>26</th>\n",
       "      <td>0.561915</td>\n",
       "      <td>0.561866</td>\n",
       "      <td>0.561901</td>\n",
       "      <td>0.561970</td>\n",
       "      <td>0.562004</td>\n",
       "    </tr>\n",
       "    <tr>\n",
       "      <th>27</th>\n",
       "      <td>0.561085</td>\n",
       "      <td>0.561050</td>\n",
       "      <td>0.561080</td>\n",
       "      <td>0.561169</td>\n",
       "      <td>0.561220</td>\n",
       "    </tr>\n",
       "    <tr>\n",
       "      <th>28</th>\n",
       "      <td>0.560880</td>\n",
       "      <td>0.560859</td>\n",
       "      <td>0.560892</td>\n",
       "      <td>0.560949</td>\n",
       "      <td>0.560976</td>\n",
       "    </tr>\n",
       "    <tr>\n",
       "      <th>29</th>\n",
       "      <td>0.561743</td>\n",
       "      <td>0.561707</td>\n",
       "      <td>0.561759</td>\n",
       "      <td>0.561823</td>\n",
       "      <td>0.561859</td>\n",
       "    </tr>\n",
       "    <tr>\n",
       "      <th>30</th>\n",
       "      <td>0.560787</td>\n",
       "      <td>0.560763</td>\n",
       "      <td>0.560794</td>\n",
       "      <td>0.560864</td>\n",
       "      <td>0.560904</td>\n",
       "    </tr>\n",
       "  </tbody>\n",
       "</table>\n",
       "</div>"
      ],
      "text/plain": [
       "       0.001     0.010     0.100     0.500     1.000\n",
       "1   0.562496  0.562496  0.562496  0.562496  0.562495\n",
       "2   0.562509  0.562509  0.562508  0.562507  0.562506\n",
       "3   0.562437  0.562434  0.562431  0.562430  0.562430\n",
       "4   0.562251  0.562251  0.562250  0.562247  0.562245\n",
       "5   0.562275  0.562267  0.562264  0.562258  0.562255\n",
       "6   0.562569  0.562555  0.562541  0.562529  0.562525\n",
       "7   0.562309  0.562290  0.562275  0.562270  0.562268\n",
       "8   0.562296  0.562287  0.562279  0.562272  0.562269\n",
       "9   0.562414  0.562408  0.562409  0.562408  0.562407\n",
       "10  0.562115  0.562131  0.562178  0.562222  0.562231\n",
       "11  0.562008  0.562010  0.562040  0.562073  0.562085\n",
       "12  0.561942  0.561930  0.561962  0.562026  0.562066\n",
       "13  0.561714  0.561719  0.561779  0.561911  0.561989\n",
       "14  0.561922  0.561865  0.561818  0.561860  0.561901\n",
       "15  0.562057  0.562006  0.561973  0.562037  0.562066\n",
       "16  0.561649  0.561597  0.561609  0.561727  0.561796\n",
       "17  0.562116  0.562055  0.561948  0.561932  0.561941\n",
       "18  0.561564  0.561560  0.561568  0.561683  0.561753\n",
       "19  0.561688  0.561581  0.561587  0.561726  0.561803\n",
       "20  0.561066  0.561018  0.561028  0.561207  0.561321\n",
       "21  0.561963  0.561584  0.561571  0.561651  0.561706\n",
       "22  0.561296  0.561266  0.561246  0.561342  0.561399\n",
       "23  0.561297  0.561278  0.561310  0.561471  0.561551\n",
       "24  0.561056  0.561025  0.561056  0.561185  0.561271\n",
       "25  0.561367  0.561341  0.561343  0.561368  0.561383\n",
       "26  0.561915  0.561866  0.561901  0.561970  0.562004\n",
       "27  0.561085  0.561050  0.561080  0.561169  0.561220\n",
       "28  0.560880  0.560859  0.560892  0.560949  0.560976\n",
       "29  0.561743  0.561707  0.561759  0.561823  0.561859\n",
       "30  0.560787  0.560763  0.560794  0.560864  0.560904"
      ]
     },
     "execution_count": 24,
     "metadata": {},
     "output_type": "execute_result"
    }
   ],
   "source": []
  },
  {
   "cell_type": "markdown",
   "metadata": {},
   "source": [
    "### After reviewing the RMSE Validation for different values of M and λ, and from the plots above, we can see that the training model with M = 30 and λ = 0.01, has the best performance for fitting the given LeToR dataset and has the least RMSE on Validation set = 0.5608\n",
    "\n",
    "### Hence, this is the model and the parameters that we shall choose as our solution. Let us print the performance metrics of the model and the final weights of the trained model.\n",
    "\n",
    "__Now let us go ahead and measure the model performance on TEST DATA SET. The RMSE on Test set shall be reported as the performance of our linear regression model.__"
   ]
  },
  {
   "cell_type": "code",
   "execution_count": 26,
   "metadata": {
    "collapsed": false
   },
   "outputs": [],
   "source": [
    "lamda = 0.01\n",
    "num_basis = 30\n",
    "design_matrix_train_cf, sigma_inv_cf, rbf_centers_cf = create_design_matrix_train_data(training_data_letor,training_labels_letor, lamda, num_basis)\n",
    "weights_cf, rmse_train_cf = closed_form_solution_training_phase(design_matrix_train_cf, sigma_inv_cf, training_labels_letor, lamda, num_basis)\n",
    "design_matrix_validation_cf = create_design_matrix_data(valid_data_letor, sigma_inv_cf, rbf_centers_cf, num_basis)\n",
    "rmse_validation_cf = calculate_error(design_matrix_validation_cf, weights_cf, valid_labels_letor)\n",
    "design_matrix_test_cf = create_design_matrix_data(test_data_letor, sigma_inv_cf, rbf_centers_cf, num_basis)\n",
    "rmse_test_cf = calculate_error(design_matrix_test_cf,weights_cf, test_labels_letor)"
   ]
  },
  {
   "cell_type": "code",
   "execution_count": 27,
   "metadata": {
    "collapsed": false
   },
   "outputs": [
    {
     "name": "stdout",
     "output_type": "stream",
     "text": [
      "Best fit Linear Regression Model using Closed Form Solution Performance: \n",
      "\n",
      "\n",
      "RMSE on Training Set:  0.569938986664\n",
      "\n",
      "\n",
      "RMSE on Validation Set:  0.560762760486\n",
      "\n",
      "\n",
      "RMSE on Test Set:  0.569938986664\n",
      "\n",
      "\n",
      "Weights Vector(w) for the trained Model:\n",
      "[  3.22484555e-01   2.33847690e+00   2.34207711e+00   3.60933571e-01\n",
      "   4.65657983e-01  -1.41762410e-01  -1.85777943e+00   4.96814116e+00\n",
      "  -4.73638524e-04   6.01505171e-02  -1.59423514e+00  -2.16056740e+00\n",
      "  -3.85282512e+00   4.21781158e+00  -9.75698199e-01  -4.51014239e-01\n",
      "   4.75969511e+00  -1.16859553e+00  -1.18269368e+00   7.56397164e-02\n",
      "   9.25042774e-01  -2.44502195e+00   1.97463906e+00  -1.09180585e+00\n",
      "   9.47779068e-01  -5.52140059e-01  -4.22417499e-02  -2.96774416e+00\n",
      "   2.19454341e+00  -7.66518374e+00]\n"
     ]
    }
   ],
   "source": [
    "print \"Best fit Linear Regression Model using Closed Form Solution Performance: \"\n",
    "print \"\\n\"\n",
    "print \"RMSE on Training Set: \", rmse_train_cf \n",
    "print \"\\n\"\n",
    "print \"RMSE on Validation Set: \", rmse_validation_cf\n",
    "print \"\\n\"\n",
    "print \"RMSE on Test Set: \", rmse_train_cf\n",
    "print \"\\n\"\n",
    "print \"Weights Vector(w) for the trained Model:\\n\", weights_cf"
   ]
  },
  {
   "cell_type": "markdown",
   "metadata": {},
   "source": [
    "### As we see, the Root Mean Square Error of our trained linear regression model using Closed Form Solution and Gaussian Basis Functions on test set is 0.5699, for M = 30  and λ = 0.01.\n",
    "\n",
    "\n",
    "Now let us try finding the solution to the same LeToR dataset, but this time, we shall be using Stochastic Gradient Descent Algorithm, for finding the weight vector(w) which give us the minimum RMSE value on Validation set."
   ]
  },
  {
   "cell_type": "markdown",
   "metadata": {},
   "source": [
    "### 2. Train a linear regression model on the LeToR dataset using stochastic gradient descent (SGD)\n",
    "### Stochastic Gradient Descent:\n",
    "i. For stochastic gradient descent, we compute the weights vector w* iteratively, updating its value after analysing each data point in the training set.\n",
    "\n",
    "ii. Begin by randomly initialising vector w*. It is a vector of size (M x 1), where M is the number of Gaussian Basis Functions.\n",
    "\n",
    "iii. The weights are updated for each data point using the formula:\n",
    "\n",
    "            w(τ+1) = w(τ) + ∆w(τ)\n",
    "            where ∆w(τ) = −η(τ)* ∇E is called the weight updates. \n",
    "            It goes along the opposite direction of the gradient of the error.\n",
    "            η(τ) is the learning rate at iteration τ. It decides how big each update step should be.\n",
    "\n",
    "iv. ∇E is the derivative of our cost function, and it determines the change in cost at a particular iteration, given the weights we used to compute the cost. Since our cost function comprises of two linearly differentiable terms, the cost function and the regularisation term, we can write:\n",
    "            \n",
    "            ∇E = ∇Ed + λ*∇Ew\n",
    "            \n",
    "            where ∇Ed = −(yi − transpose(w(τ))* ϕ(xi))* ϕ(xi)\n",
    "            \n",
    "              and ∇Ew = w(τ)\n",
    "\n",
    "v. Updated weights can be written as:\n",
    "\n",
    "            w(τ+1) = w(τ) + η(τ) * ((yi − transpose (w(τ)) * ϕ(xi))*ϕ(xi) - λ * w(τ))\n",
    "\n",
    "vi. For set values of (η,λ,M), we take a single datapoint, compute values of ∇Ed, ∇Ew and determine updated weights for next iteration. \n",
    "\n",
    "vii. As for closed form solution, we use the obtained values of weights to compute the predicted labels for each data point in training design matrix. We predict the output labels using these weights and the design matrix Φ, to determine how erronous is the prediction of our model from the actual label.\n",
    "\n",
    "            y(x, w) = transpose(w*) * ϕ(x)\n",
    "            \n",
    "viii. We determine the error in predictions using Root Mean Squared Error(RMSE), which is infact the square root of sum of squared errors of our model predictions on each data point in the training set.\n",
    "      \n",
    "ix. __Shuffling the training data for multiple passes__ - Several passes can be made over the training set until the algorithm converges. If this is done, the data can be shuffled for each pass to prevent cycles. We have implemented this approach in our implementation of the SGD and hence have shuffled the data using __numpy.random.shuffle()__ \n",
    "     \n",
    "x. When there is very less change in the value of training error, we say that the model has converged, and we store these values of weights(w*) and regularisation parameter(λ) corresponding to the chosen number of basis functions. \n",
    "    \n",
    "xi. Next, we have to test this model with the set λ and M values on the validation set. For this, we use the same µj and Σ values, to convert the 46 dimensional data to M dimensional validation set.\n",
    "   \n",
    "xii. We use the same steps, as for training data, to compute the predictions on the validation set and calculate the RMSE on the validation set.\n",
    "    \n",
    "xiii. We repeat all the above steps for different values of number of basis functions M and regularisation parameter λ, and store the training RMSE and validation RMSE for each combination.\n",
    "     \n",
    "xiv. We pick the model which has LEAST RMSE ON VALIDATION SET as our final solution, and store the values of M, λ and weights w*.            \n",
    "\n",
    "Let us talk a little about how we choose our learning rate for stochastic gradient descent.\n",
    "### Learning Rate/ Momentum(η):\n",
    "       1. We can either fix the values of η, for training the entire model. But there are two situations where we could face difficulties:\n",
    "             a. If η is too small, the model will take a lot of time before it converges.\n",
    "             b. If η is too large, the model might skip a lot of steps and will be fast, but we risk missing out on the global minima.\n",
    "       2. As a result of this, we can keep use an adaptive learning rate η. \n",
    "             a. If the model is moving towards optimum solution, we should be more cautious and take smaller steps towards the minima, hence decrease the value of η if we rae moving in right direction.\n",
    "             b. But, if the model is still pretty far away from the minima, we need to speed up the process to reach minima in an efficient manner, hence we boost the value of η.\n",
    "\n",
    "This approach ensures that we choose just the right learning rate at each iteration in the Stochastic Gradient Descent."
   ]
  },
  {
   "cell_type": "code",
   "execution_count": 12,
   "metadata": {
    "collapsed": true
   },
   "outputs": [],
   "source": [
    "def stochastic_gradient_solution(design_matrix_train, training_labels, lamda, num_basis):\n",
    "    n = 1\n",
    "    boost_factor = 1.25\n",
    "    degrade_factor = 0.8\n",
    "    del_error = 100000\n",
    "    weights = np.random.uniform(-1.0,1.0,size=(1,num_basis))[0]\n",
    "    eta1 = []\n",
    "    error_iteration = []\n",
    "    num_iter = 0\n",
    "    # We shall choose a small value for change in the relative error between two passes \n",
    "    # as the termination condition, but sometimes the model performs additional unnecessary passes \n",
    "    # before achieving this small error change. Hence we prune the number of passes and allow the model\n",
    "    # to make constant passes, as additional passes don't lead to any significant gain.\n",
    "    while del_error > 0.00001 and num_iter < 5:\n",
    "        complete_train_data = np.insert(design_matrix_train, 0, training_labels, axis=1)\n",
    "        np.random.shuffle(complete_train_data)\n",
    "        training_labels = complete_train_data[:,0]\n",
    "        design_matrix_train = np.delete(complete_train_data,0,axis=1)\n",
    "        for i in range(len(training_labels)):\n",
    "            error_iteration.append(calculate_error(design_matrix_train, weights, training_labels))\n",
    "            temp1 = training_labels[i] - np.dot(weights, design_matrix_train[i,:].transpose())\n",
    "            temp2 = -1 * temp1 * design_matrix_train[i,:]\n",
    "            temp3 = temp2 + lamda * weights\n",
    "            eta1.append(n)\n",
    "            new_weights = weights - n * temp3\n",
    "            new_weight_vec = np.sum(np.square(new_weights))\n",
    "            old_weight_vec = np.sum(np.square(weights))\n",
    "            if np.sqrt(np.abs(new_weight_vec - old_weight_vec)) < 0.0001:\n",
    "                n = n * boost_factor\n",
    "            else:\n",
    "                n = n * degrade_factor\n",
    "            weights = new_weights\n",
    "        train_error = calculate_error(design_matrix_train, weights, training_labels)\n",
    "        if num_iter == 0:\n",
    "            init_error = train_error\n",
    "            del_error = 100000\n",
    "        else:\n",
    "            del_error = init_error - train_error\n",
    "            init_error = train_error\n",
    "        num_iter +=1\n",
    "    return weights, train_error, eta1, error_iteration"
   ]
  },
  {
   "cell_type": "code",
   "execution_count": null,
   "metadata": {
    "collapsed": true
   },
   "outputs": [],
   "source": [
    "lamda_values = [0.001, 0.01, 0.1, 0.5, 1]\n",
    "for lamda in lamda_values:\n",
    "    print \"λ = \", lamda\n",
    "    error_matrix_letor['sgd']['train'][lamda] = []\n",
    "    error_matrix_letor['sgd']['validation'][lamda] = []\n",
    "    for num_basis in range(1, 31):\n",
    "        design_matrix_train_letor, sigma_inv_letor, rbf_centers_letor = create_design_matrix_train_data(training_data_letor, training_labels_letor, lamda, num_basis)\n",
    "        weights_letor, rmse_train_letor, learning_rate_changes, error_iteration = stochastic_gradient_solution(design_matrix_train_letor, training_labels_letor, lamda, num_basis)\n",
    "        design_matrix_validation_letor = create_design_matrix_data(valid_data_letor, sigma_inv_letor, rbf_centers_letor, num_basis)\n",
    "        rmse_validation_letor = calculate_error(design_matrix_validation_letor, weights_letor, valid_labels_letor)\n",
    "        error_matrix_letor['sgd']['train'][lamda].append(rmse_train_letor)\n",
    "        error_matrix_letor['sgd']['validation'][lamda].append(rmse_validation_letor)"
   ]
  },
  {
   "cell_type": "markdown",
   "metadata": {},
   "source": [
    "We have stored the model performance corresponding to each trained model, with unique combination of (M, λ) in the error_matrix_letor['sgd'] dictionary.\n",
    "\n",
    "We shall now plot the model performance parameters, and shall study how the performance changes as the model complexity increases for different values of regularisation parameter.\n",
    "This will enable us to choose the best trained model which fits the given LeToR dataset optimally."
   ]
  },
  {
   "cell_type": "code",
   "execution_count": 183,
   "metadata": {
    "collapsed": false
   },
   "outputs": [
    {
     "name": "stdout",
     "output_type": "stream",
     "text": [
      "Plot for RMSE Validation across different number of Gaussian Basis Functions, for λ =  0.001\n"
     ]
    },
    {
     "data": {
      "image/png": "[encoded data removed]",
      "text/plain": [
       "<matplotlib.figure.Figure at 0x10af35a90>"
      ]
     },
     "metadata": {},
     "output_type": "display_data"
    },
    {
     "name": "stdout",
     "output_type": "stream",
     "text": [
      "Plot for RMSE Validation across different number of Gaussian Basis Functions, for λ =  0.01\n"
     ]
    },
    {
     "data": {
      "image/png": "[encoded data removed]",
      "text/plain": [
       "<matplotlib.figure.Figure at 0x1115c7190>"
      ]
     },
     "metadata": {},
     "output_type": "display_data"
    },
    {
     "name": "stdout",
     "output_type": "stream",
     "text": [
      "Plot for RMSE Validation across different number of Gaussian Basis Functions, for λ =  0.1\n"
     ]
    },
    {
     "data": {
      "image/png": "[encoded data removed]",
      "text/plain": [
       "<matplotlib.figure.Figure at 0x10f9d3e10>"
      ]
     },
     "metadata": {},
     "output_type": "display_data"
    },
    {
     "name": "stdout",
     "output_type": "stream",
     "text": [
      "Plot for RMSE Validation across different number of Gaussian Basis Functions, for λ =  0.5\n"
     ]
    },
    {
     "data": {
      "image/png": "[encoded data removed]",
      "text/plain": [
       "<matplotlib.figure.Figure at 0x10eb44310>"
      ]
     },
     "metadata": {},
     "output_type": "display_data"
    },
    {
     "name": "stdout",
     "output_type": "stream",
     "text": [
      "Plot for RMSE Validation across different number of Gaussian Basis Functions, for λ =  1\n"
     ]
    },
    {
     "data": {
      "image/png": "[encoded data removed]",
      "text/plain": [
       "<matplotlib.figure.Figure at 0x10b137e50>"
      ]
     },
     "metadata": {},
     "output_type": "display_data"
    }
   ],
   "source": [
    "for lamda in sorted(error_matrix_letor['sgd']['train']):\n",
    "    print \"Plot for RMSE Validation across different number of Gaussian Basis Functions, for λ = \", lamda\n",
    "    plot_data(error_matrix_letor['sgd']['validation'][lamda],error_matrix_letor['sgd']['train'][lamda], lamda, 'RMSE Validation', 'RMSE Training', [0, 30, 0.5, 0.7])"
   ]
  },
  {
   "cell_type": "markdown",
   "metadata": {},
   "source": [
    "Let us inspect all the values of RMSE Training(Erms,t) and RMSE Validation(Erms,v) for different values of regularisation parameter and number of basis functions M.\n",
    "\n",
    "__Note that, we shall choose the model as the best fit, which has least RMSE Validation(Erms,v). As stated earlier, the test dataset has been secluded until this spot, and we shall only calculate the final model performnace on it.__"
   ]
  },
  {
   "cell_type": "code",
   "execution_count": 181,
   "metadata": {
    "collapsed": false
   },
   "outputs": [
    {
     "name": "stdout",
     "output_type": "stream",
     "text": [
      "RMSE Training for different values of λ(column headers) and Number of basis Functions(row headers)\n"
     ]
    },
    {
     "data": {
      "text/html": [
       "<div>\n",
       "<table border=\"1\" class=\"dataframe\">\n",
       "  <thead>\n",
       "    <tr style=\"text-align: right;\">\n",
       "      <th></th>\n",
       "      <th>0.001</th>\n",
       "      <th>0.01</th>\n",
       "      <th>0.1</th>\n",
       "      <th>0.5</th>\n",
       "      <th>1.0</th>\n",
       "    </tr>\n",
       "  </thead>\n",
       "  <tbody>\n",
       "    <tr>\n",
       "      <th>1</th>\n",
       "      <td>0.568257</td>\n",
       "      <td>0.564396</td>\n",
       "      <td>0.564880</td>\n",
       "      <td>0.586753</td>\n",
       "      <td>0.572349</td>\n",
       "    </tr>\n",
       "    <tr>\n",
       "      <th>2</th>\n",
       "      <td>0.575335</td>\n",
       "      <td>0.566514</td>\n",
       "      <td>0.587518</td>\n",
       "      <td>0.589804</td>\n",
       "      <td>0.566296</td>\n",
       "    </tr>\n",
       "    <tr>\n",
       "      <th>3</th>\n",
       "      <td>0.571363</td>\n",
       "      <td>0.605919</td>\n",
       "      <td>0.569169</td>\n",
       "      <td>0.581993</td>\n",
       "      <td>0.598220</td>\n",
       "    </tr>\n",
       "    <tr>\n",
       "      <th>4</th>\n",
       "      <td>0.565778</td>\n",
       "      <td>0.566391</td>\n",
       "      <td>0.566765</td>\n",
       "      <td>0.587894</td>\n",
       "      <td>0.587675</td>\n",
       "    </tr>\n",
       "    <tr>\n",
       "      <th>5</th>\n",
       "      <td>0.656941</td>\n",
       "      <td>0.566674</td>\n",
       "      <td>0.575257</td>\n",
       "      <td>0.564397</td>\n",
       "      <td>0.572389</td>\n",
       "    </tr>\n",
       "    <tr>\n",
       "      <th>6</th>\n",
       "      <td>0.576383</td>\n",
       "      <td>0.615376</td>\n",
       "      <td>0.585504</td>\n",
       "      <td>0.603743</td>\n",
       "      <td>0.593890</td>\n",
       "    </tr>\n",
       "    <tr>\n",
       "      <th>7</th>\n",
       "      <td>0.564801</td>\n",
       "      <td>0.570450</td>\n",
       "      <td>0.597666</td>\n",
       "      <td>0.574781</td>\n",
       "      <td>0.568502</td>\n",
       "    </tr>\n",
       "    <tr>\n",
       "      <th>8</th>\n",
       "      <td>0.566629</td>\n",
       "      <td>0.571601</td>\n",
       "      <td>0.567917</td>\n",
       "      <td>0.568699</td>\n",
       "      <td>0.565227</td>\n",
       "    </tr>\n",
       "    <tr>\n",
       "      <th>9</th>\n",
       "      <td>0.662110</td>\n",
       "      <td>0.565101</td>\n",
       "      <td>0.565692</td>\n",
       "      <td>0.566225</td>\n",
       "      <td>0.574254</td>\n",
       "    </tr>\n",
       "    <tr>\n",
       "      <th>10</th>\n",
       "      <td>0.566075</td>\n",
       "      <td>0.568635</td>\n",
       "      <td>0.564606</td>\n",
       "      <td>0.578041</td>\n",
       "      <td>0.568120</td>\n",
       "    </tr>\n",
       "    <tr>\n",
       "      <th>11</th>\n",
       "      <td>0.565743</td>\n",
       "      <td>0.565120</td>\n",
       "      <td>0.572982</td>\n",
       "      <td>0.574134</td>\n",
       "      <td>0.568382</td>\n",
       "    </tr>\n",
       "    <tr>\n",
       "      <th>12</th>\n",
       "      <td>0.572864</td>\n",
       "      <td>0.572436</td>\n",
       "      <td>0.611092</td>\n",
       "      <td>0.586780</td>\n",
       "      <td>0.605088</td>\n",
       "    </tr>\n",
       "    <tr>\n",
       "      <th>13</th>\n",
       "      <td>0.576294</td>\n",
       "      <td>0.565413</td>\n",
       "      <td>0.575724</td>\n",
       "      <td>0.566372</td>\n",
       "      <td>0.606938</td>\n",
       "    </tr>\n",
       "    <tr>\n",
       "      <th>14</th>\n",
       "      <td>0.576721</td>\n",
       "      <td>0.566922</td>\n",
       "      <td>0.565458</td>\n",
       "      <td>0.580886</td>\n",
       "      <td>0.572058</td>\n",
       "    </tr>\n",
       "    <tr>\n",
       "      <th>15</th>\n",
       "      <td>0.565657</td>\n",
       "      <td>0.577019</td>\n",
       "      <td>0.567497</td>\n",
       "      <td>0.565862</td>\n",
       "      <td>0.574934</td>\n",
       "    </tr>\n",
       "    <tr>\n",
       "      <th>16</th>\n",
       "      <td>0.611197</td>\n",
       "      <td>0.596958</td>\n",
       "      <td>0.572856</td>\n",
       "      <td>0.566115</td>\n",
       "      <td>0.590652</td>\n",
       "    </tr>\n",
       "    <tr>\n",
       "      <th>17</th>\n",
       "      <td>0.596617</td>\n",
       "      <td>0.566484</td>\n",
       "      <td>0.565760</td>\n",
       "      <td>0.575237</td>\n",
       "      <td>0.568318</td>\n",
       "    </tr>\n",
       "    <tr>\n",
       "      <th>18</th>\n",
       "      <td>0.581943</td>\n",
       "      <td>0.566761</td>\n",
       "      <td>0.568481</td>\n",
       "      <td>0.574831</td>\n",
       "      <td>0.578005</td>\n",
       "    </tr>\n",
       "    <tr>\n",
       "      <th>19</th>\n",
       "      <td>0.567548</td>\n",
       "      <td>0.576512</td>\n",
       "      <td>0.566264</td>\n",
       "      <td>0.567873</td>\n",
       "      <td>0.577123</td>\n",
       "    </tr>\n",
       "    <tr>\n",
       "      <th>20</th>\n",
       "      <td>0.575082</td>\n",
       "      <td>0.581108</td>\n",
       "      <td>0.566221</td>\n",
       "      <td>0.593819</td>\n",
       "      <td>0.597684</td>\n",
       "    </tr>\n",
       "    <tr>\n",
       "      <th>21</th>\n",
       "      <td>0.567381</td>\n",
       "      <td>0.564786</td>\n",
       "      <td>0.570678</td>\n",
       "      <td>0.590086</td>\n",
       "      <td>0.601608</td>\n",
       "    </tr>\n",
       "    <tr>\n",
       "      <th>22</th>\n",
       "      <td>0.595542</td>\n",
       "      <td>0.579097</td>\n",
       "      <td>0.580500</td>\n",
       "      <td>0.592997</td>\n",
       "      <td>0.586481</td>\n",
       "    </tr>\n",
       "    <tr>\n",
       "      <th>23</th>\n",
       "      <td>0.565607</td>\n",
       "      <td>0.609386</td>\n",
       "      <td>0.566218</td>\n",
       "      <td>0.567538</td>\n",
       "      <td>0.597078</td>\n",
       "    </tr>\n",
       "    <tr>\n",
       "      <th>24</th>\n",
       "      <td>0.571166</td>\n",
       "      <td>0.569123</td>\n",
       "      <td>0.569804</td>\n",
       "      <td>0.598625</td>\n",
       "      <td>0.592272</td>\n",
       "    </tr>\n",
       "    <tr>\n",
       "      <th>25</th>\n",
       "      <td>0.587270</td>\n",
       "      <td>0.571528</td>\n",
       "      <td>0.565050</td>\n",
       "      <td>0.583871</td>\n",
       "      <td>0.577938</td>\n",
       "    </tr>\n",
       "    <tr>\n",
       "      <th>26</th>\n",
       "      <td>0.565825</td>\n",
       "      <td>0.599121</td>\n",
       "      <td>0.565340</td>\n",
       "      <td>0.590802</td>\n",
       "      <td>0.582178</td>\n",
       "    </tr>\n",
       "    <tr>\n",
       "      <th>27</th>\n",
       "      <td>0.626099</td>\n",
       "      <td>0.633144</td>\n",
       "      <td>0.589363</td>\n",
       "      <td>0.567319</td>\n",
       "      <td>0.599465</td>\n",
       "    </tr>\n",
       "    <tr>\n",
       "      <th>28</th>\n",
       "      <td>0.611736</td>\n",
       "      <td>0.570250</td>\n",
       "      <td>0.573032</td>\n",
       "      <td>0.575330</td>\n",
       "      <td>0.600858</td>\n",
       "    </tr>\n",
       "    <tr>\n",
       "      <th>29</th>\n",
       "      <td>0.565420</td>\n",
       "      <td>0.572527</td>\n",
       "      <td>0.594622</td>\n",
       "      <td>0.564485</td>\n",
       "      <td>0.603295</td>\n",
       "    </tr>\n",
       "    <tr>\n",
       "      <th>30</th>\n",
       "      <td>0.607368</td>\n",
       "      <td>0.568550</td>\n",
       "      <td>0.564072</td>\n",
       "      <td>0.585689</td>\n",
       "      <td>0.607679</td>\n",
       "    </tr>\n",
       "  </tbody>\n",
       "</table>\n",
       "</div>"
      ],
      "text/plain": [
       "       0.001     0.010     0.100     0.500     1.000\n",
       "1   0.568257  0.564396  0.564880  0.586753  0.572349\n",
       "2   0.575335  0.566514  0.587518  0.589804  0.566296\n",
       "3   0.571363  0.605919  0.569169  0.581993  0.598220\n",
       "4   0.565778  0.566391  0.566765  0.587894  0.587675\n",
       "5   0.656941  0.566674  0.575257  0.564397  0.572389\n",
       "6   0.576383  0.615376  0.585504  0.603743  0.593890\n",
       "7   0.564801  0.570450  0.597666  0.574781  0.568502\n",
       "8   0.566629  0.571601  0.567917  0.568699  0.565227\n",
       "9   0.662110  0.565101  0.565692  0.566225  0.574254\n",
       "10  0.566075  0.568635  0.564606  0.578041  0.568120\n",
       "11  0.565743  0.565120  0.572982  0.574134  0.568382\n",
       "12  0.572864  0.572436  0.611092  0.586780  0.605088\n",
       "13  0.576294  0.565413  0.575724  0.566372  0.606938\n",
       "14  0.576721  0.566922  0.565458  0.580886  0.572058\n",
       "15  0.565657  0.577019  0.567497  0.565862  0.574934\n",
       "16  0.611197  0.596958  0.572856  0.566115  0.590652\n",
       "17  0.596617  0.566484  0.565760  0.575237  0.568318\n",
       "18  0.581943  0.566761  0.568481  0.574831  0.578005\n",
       "19  0.567548  0.576512  0.566264  0.567873  0.577123\n",
       "20  0.575082  0.581108  0.566221  0.593819  0.597684\n",
       "21  0.567381  0.564786  0.570678  0.590086  0.601608\n",
       "22  0.595542  0.579097  0.580500  0.592997  0.586481\n",
       "23  0.565607  0.609386  0.566218  0.567538  0.597078\n",
       "24  0.571166  0.569123  0.569804  0.598625  0.592272\n",
       "25  0.587270  0.571528  0.565050  0.583871  0.577938\n",
       "26  0.565825  0.599121  0.565340  0.590802  0.582178\n",
       "27  0.626099  0.633144  0.589363  0.567319  0.599465\n",
       "28  0.611736  0.570250  0.573032  0.575330  0.600858\n",
       "29  0.565420  0.572527  0.594622  0.564485  0.603295\n",
       "30  0.607368  0.568550  0.564072  0.585689  0.607679"
      ]
     },
     "execution_count": 181,
     "metadata": {},
     "output_type": "execute_result"
    }
   ],
   "source": []
  },
  {
   "cell_type": "code",
   "execution_count": 182,
   "metadata": {
    "collapsed": false
   },
   "outputs": [
    {
     "name": "stdout",
     "output_type": "stream",
     "text": [
      "RMSE Validation for different values of λ(column headers) and Number of basis Functions(row headers)\n"
     ]
    },
    {
     "data": {
      "text/html": [
       "<div>\n",
       "<table border=\"1\" class=\"dataframe\">\n",
       "  <thead>\n",
       "    <tr style=\"text-align: right;\">\n",
       "      <th></th>\n",
       "      <th>0.001</th>\n",
       "      <th>0.01</th>\n",
       "      <th>0.1</th>\n",
       "      <th>0.5</th>\n",
       "      <th>1.0</th>\n",
       "    </tr>\n",
       "  </thead>\n",
       "  <tbody>\n",
       "    <tr>\n",
       "      <th>1</th>\n",
       "      <td>0.558860</td>\n",
       "      <td>0.553691</td>\n",
       "      <td>0.553702</td>\n",
       "      <td>0.573455</td>\n",
       "      <td>0.559956</td>\n",
       "    </tr>\n",
       "    <tr>\n",
       "      <th>2</th>\n",
       "      <td>0.566818</td>\n",
       "      <td>0.554675</td>\n",
       "      <td>0.574189</td>\n",
       "      <td>0.576396</td>\n",
       "      <td>0.556487</td>\n",
       "    </tr>\n",
       "    <tr>\n",
       "      <th>3</th>\n",
       "      <td>0.562426</td>\n",
       "      <td>0.599869</td>\n",
       "      <td>0.557043</td>\n",
       "      <td>0.568923</td>\n",
       "      <td>0.584493</td>\n",
       "    </tr>\n",
       "    <tr>\n",
       "      <th>4</th>\n",
       "      <td>0.554490</td>\n",
       "      <td>0.554668</td>\n",
       "      <td>0.556986</td>\n",
       "      <td>0.574543</td>\n",
       "      <td>0.574336</td>\n",
       "    </tr>\n",
       "    <tr>\n",
       "      <th>5</th>\n",
       "      <td>0.653141</td>\n",
       "      <td>0.556870</td>\n",
       "      <td>0.562546</td>\n",
       "      <td>0.553625</td>\n",
       "      <td>0.559993</td>\n",
       "    </tr>\n",
       "    <tr>\n",
       "      <th>6</th>\n",
       "      <td>0.563655</td>\n",
       "      <td>0.610132</td>\n",
       "      <td>0.578225</td>\n",
       "      <td>0.589858</td>\n",
       "      <td>0.580307</td>\n",
       "    </tr>\n",
       "    <tr>\n",
       "      <th>7</th>\n",
       "      <td>0.553705</td>\n",
       "      <td>0.558145</td>\n",
       "      <td>0.584055</td>\n",
       "      <td>0.562168</td>\n",
       "      <td>0.556538</td>\n",
       "    </tr>\n",
       "    <tr>\n",
       "      <th>8</th>\n",
       "      <td>0.556810</td>\n",
       "      <td>0.559154</td>\n",
       "      <td>0.555941</td>\n",
       "      <td>0.556710</td>\n",
       "      <td>0.553911</td>\n",
       "    </tr>\n",
       "    <tr>\n",
       "      <th>9</th>\n",
       "      <td>0.658531</td>\n",
       "      <td>0.554008</td>\n",
       "      <td>0.555694</td>\n",
       "      <td>0.554667</td>\n",
       "      <td>0.561696</td>\n",
       "    </tr>\n",
       "    <tr>\n",
       "      <th>10</th>\n",
       "      <td>0.554734</td>\n",
       "      <td>0.556852</td>\n",
       "      <td>0.553748</td>\n",
       "      <td>0.565201</td>\n",
       "      <td>0.556210</td>\n",
       "    </tr>\n",
       "    <tr>\n",
       "      <th>11</th>\n",
       "      <td>0.554421</td>\n",
       "      <td>0.553625</td>\n",
       "      <td>0.560645</td>\n",
       "      <td>0.561584</td>\n",
       "      <td>0.556435</td>\n",
       "    </tr>\n",
       "    <tr>\n",
       "      <th>12</th>\n",
       "      <td>0.560639</td>\n",
       "      <td>0.564112</td>\n",
       "      <td>0.596852</td>\n",
       "      <td>0.573473</td>\n",
       "      <td>0.591162</td>\n",
       "    </tr>\n",
       "    <tr>\n",
       "      <th>13</th>\n",
       "      <td>0.568180</td>\n",
       "      <td>0.554268</td>\n",
       "      <td>0.563094</td>\n",
       "      <td>0.554767</td>\n",
       "      <td>0.592964</td>\n",
       "    </tr>\n",
       "    <tr>\n",
       "      <th>14</th>\n",
       "      <td>0.568657</td>\n",
       "      <td>0.555449</td>\n",
       "      <td>0.554500</td>\n",
       "      <td>0.567876</td>\n",
       "      <td>0.559691</td>\n",
       "    </tr>\n",
       "    <tr>\n",
       "      <th>15</th>\n",
       "      <td>0.554394</td>\n",
       "      <td>0.568578</td>\n",
       "      <td>0.557705</td>\n",
       "      <td>0.554352</td>\n",
       "      <td>0.562323</td>\n",
       "    </tr>\n",
       "    <tr>\n",
       "      <th>16</th>\n",
       "      <td>0.605410</td>\n",
       "      <td>0.583437</td>\n",
       "      <td>0.560231</td>\n",
       "      <td>0.554543</td>\n",
       "      <td>0.577055</td>\n",
       "    </tr>\n",
       "    <tr>\n",
       "      <th>17</th>\n",
       "      <td>0.590219</td>\n",
       "      <td>0.556253</td>\n",
       "      <td>0.555511</td>\n",
       "      <td>0.562601</td>\n",
       "      <td>0.556378</td>\n",
       "    </tr>\n",
       "    <tr>\n",
       "      <th>18</th>\n",
       "      <td>0.568914</td>\n",
       "      <td>0.556742</td>\n",
       "      <td>0.559219</td>\n",
       "      <td>0.566321</td>\n",
       "      <td>0.565177</td>\n",
       "    </tr>\n",
       "    <tr>\n",
       "      <th>19</th>\n",
       "      <td>0.556895</td>\n",
       "      <td>0.564092</td>\n",
       "      <td>0.555574</td>\n",
       "      <td>0.555995</td>\n",
       "      <td>0.564353</td>\n",
       "    </tr>\n",
       "    <tr>\n",
       "      <th>20</th>\n",
       "      <td>0.562207</td>\n",
       "      <td>0.573124</td>\n",
       "      <td>0.556368</td>\n",
       "      <td>0.580224</td>\n",
       "      <td>0.583973</td>\n",
       "    </tr>\n",
       "    <tr>\n",
       "      <th>21</th>\n",
       "      <td>0.557754</td>\n",
       "      <td>0.554715</td>\n",
       "      <td>0.558426</td>\n",
       "      <td>0.576657</td>\n",
       "      <td>0.587778</td>\n",
       "    </tr>\n",
       "    <tr>\n",
       "      <th>22</th>\n",
       "      <td>0.581947</td>\n",
       "      <td>0.566423</td>\n",
       "      <td>0.567663</td>\n",
       "      <td>0.579408</td>\n",
       "      <td>0.573196</td>\n",
       "    </tr>\n",
       "    <tr>\n",
       "      <th>23</th>\n",
       "      <td>0.554905</td>\n",
       "      <td>0.595528</td>\n",
       "      <td>0.555162</td>\n",
       "      <td>0.555734</td>\n",
       "      <td>0.583386</td>\n",
       "    </tr>\n",
       "    <tr>\n",
       "      <th>24</th>\n",
       "      <td>0.562853</td>\n",
       "      <td>0.559736</td>\n",
       "      <td>0.557689</td>\n",
       "      <td>0.584872</td>\n",
       "      <td>0.578748</td>\n",
       "    </tr>\n",
       "    <tr>\n",
       "      <th>25</th>\n",
       "      <td>0.579938</td>\n",
       "      <td>0.562781</td>\n",
       "      <td>0.554188</td>\n",
       "      <td>0.570681</td>\n",
       "      <td>0.565112</td>\n",
       "    </tr>\n",
       "    <tr>\n",
       "      <th>26</th>\n",
       "      <td>0.554641</td>\n",
       "      <td>0.585591</td>\n",
       "      <td>0.555111</td>\n",
       "      <td>0.577318</td>\n",
       "      <td>0.569107</td>\n",
       "    </tr>\n",
       "    <tr>\n",
       "      <th>27</th>\n",
       "      <td>0.621775</td>\n",
       "      <td>0.617655</td>\n",
       "      <td>0.576038</td>\n",
       "      <td>0.555561</td>\n",
       "      <td>0.585698</td>\n",
       "    </tr>\n",
       "    <tr>\n",
       "      <th>28</th>\n",
       "      <td>0.598149</td>\n",
       "      <td>0.558662</td>\n",
       "      <td>0.564579</td>\n",
       "      <td>0.566923</td>\n",
       "      <td>0.587053</td>\n",
       "    </tr>\n",
       "    <tr>\n",
       "      <th>29</th>\n",
       "      <td>0.554624</td>\n",
       "      <td>0.560281</td>\n",
       "      <td>0.588051</td>\n",
       "      <td>0.553543</td>\n",
       "      <td>0.589414</td>\n",
       "    </tr>\n",
       "    <tr>\n",
       "      <th>30</th>\n",
       "      <td>0.601047</td>\n",
       "      <td>0.558496</td>\n",
       "      <td>0.553460</td>\n",
       "      <td>0.572396</td>\n",
       "      <td>0.593685</td>\n",
       "    </tr>\n",
       "  </tbody>\n",
       "</table>\n",
       "</div>"
      ],
      "text/plain": [
       "       0.001     0.010     0.100     0.500     1.000\n",
       "1   0.558860  0.553691  0.553702  0.573455  0.559956\n",
       "2   0.566818  0.554675  0.574189  0.576396  0.556487\n",
       "3   0.562426  0.599869  0.557043  0.568923  0.584493\n",
       "4   0.554490  0.554668  0.556986  0.574543  0.574336\n",
       "5   0.653141  0.556870  0.562546  0.553625  0.559993\n",
       "6   0.563655  0.610132  0.578225  0.589858  0.580307\n",
       "7   0.553705  0.558145  0.584055  0.562168  0.556538\n",
       "8   0.556810  0.559154  0.555941  0.556710  0.553911\n",
       "9   0.658531  0.554008  0.555694  0.554667  0.561696\n",
       "10  0.554734  0.556852  0.553748  0.565201  0.556210\n",
       "11  0.554421  0.553625  0.560645  0.561584  0.556435\n",
       "12  0.560639  0.564112  0.596852  0.573473  0.591162\n",
       "13  0.568180  0.554268  0.563094  0.554767  0.592964\n",
       "14  0.568657  0.555449  0.554500  0.567876  0.559691\n",
       "15  0.554394  0.568578  0.557705  0.554352  0.562323\n",
       "16  0.605410  0.583437  0.560231  0.554543  0.577055\n",
       "17  0.590219  0.556253  0.555511  0.562601  0.556378\n",
       "18  0.568914  0.556742  0.559219  0.566321  0.565177\n",
       "19  0.556895  0.564092  0.555574  0.555995  0.564353\n",
       "20  0.562207  0.573124  0.556368  0.580224  0.583973\n",
       "21  0.557754  0.554715  0.558426  0.576657  0.587778\n",
       "22  0.581947  0.566423  0.567663  0.579408  0.573196\n",
       "23  0.554905  0.595528  0.555162  0.555734  0.583386\n",
       "24  0.562853  0.559736  0.557689  0.584872  0.578748\n",
       "25  0.579938  0.562781  0.554188  0.570681  0.565112\n",
       "26  0.554641  0.585591  0.555111  0.577318  0.569107\n",
       "27  0.621775  0.617655  0.576038  0.555561  0.585698\n",
       "28  0.598149  0.558662  0.564579  0.566923  0.587053\n",
       "29  0.554624  0.560281  0.588051  0.553543  0.589414\n",
       "30  0.601047  0.558496  0.553460  0.572396  0.593685"
      ]
     },
     "execution_count": 182,
     "metadata": {},
     "output_type": "execute_result"
    }
   ],
   "source": []
  },
  {
   "cell_type": "markdown",
   "metadata": {},
   "source": [
    "### After reviewing the RMSE Validation for different values of M and λ, and from the plots above, we can see that the training model with M = 11 and λ = 0.01, has the best performance for fitting the given LeToR dataset using Stochastic Gradient Descent and has the least RMSE on Validation set = 0.5545\n",
    "\n",
    "### Hence, this is the model and the parameters that we shall choose as our solution. Let us print the performance metrics of the model and the final weights of the trained model.\n",
    "\n",
    "__Now let us go ahead and measure the model performance on TEST DATA SET. The RMSE on Test set shall be reported as the performance of our linear regression model using Stochastic Gradient Descent on LeToR Dataset.__"
   ]
  },
  {
   "cell_type": "code",
   "execution_count": 191,
   "metadata": {
    "collapsed": false
   },
   "outputs": [],
   "source": [
    "lamda = 0.01\n",
    "num_basis = 11\n",
    "design_matrix_train_sgd, sigma_inv_sgd, rbf_centers_sgd = create_design_matrix_train_data(training_data_letor, training_labels_letor, lamda, num_basis)\n",
    "weights_sgd, rmse_train_sgd, learning_rate_changes_sgd, error_iteration_letor_sgd = stochastic_gradient_solution(design_matrix_train_sgd, training_labels_letor, lamda, num_basis)\n",
    "design_matrix_validation_sgd = create_design_matrix_data(valid_data_letor, sigma_inv_sgd, rbf_centers_sgd, num_basis)\n",
    "rmse_validation_sgd = calculate_error(design_matrix_validation_sgd, weights_sgd, valid_labels_letor)\n",
    "design_matrix_test_sgd = create_design_matrix_data(test_data_letor, sigma_inv_sgd, rbf_centers_sgd, num_basis)\n",
    "rmse_test_sgd = calculate_error(design_matrix_test_sgd, weights_sgd, test_labels_letor)"
   ]
  },
  {
   "cell_type": "code",
   "execution_count": 187,
   "metadata": {
    "collapsed": false
   },
   "outputs": [
    {
     "name": "stdout",
     "output_type": "stream",
     "text": [
      "Best fit Linear Regression Model using Stochastic Gradient Descent(SGD) Performance Metrics: \n",
      "\n",
      "\n",
      "RMSE on Training Set:  0.564856084394\n",
      "\n",
      "\n",
      "RMSE on Validation Set:  0.554452578362\n",
      "\n",
      "\n",
      "RMSE on Test Set:  0.637591911743\n",
      "\n",
      "\n",
      "Weights Vector(w) for the trained Model:\n",
      "[ 0.32662874  0.20491318 -0.36197948 -0.69389639 -0.0833514  -0.82821713\n",
      "  0.85042275 -0.12771575 -0.3891245   0.32196762  0.6844154 ]\n"
     ]
    }
   ],
   "source": [
    "print \"Best fit Linear Regression Model using Stochastic Gradient Descent(SGD) Performance Metrics: \"\n",
    "print \"\\n\"\n",
    "print \"RMSE on Training Set: \", rmse_train_sgd \n",
    "print \"\\n\"\n",
    "print \"RMSE on Validation Set: \", rmse_validation_sgd\n",
    "print \"\\n\"\n",
    "print \"RMSE on Test Set: \", rmse_test_sgd\n",
    "print \"\\n\"\n",
    "print \"Weights Vector(w) for the trained Model:\\n\", weights_sgd"
   ]
  },
  {
   "cell_type": "markdown",
   "metadata": {},
   "source": [
    "### As we see, the Root Mean Square Error of our trained linear regression model using Stochastic Gradient Descent Algorithm and Gaussian Basis Functions on test set is 0.6376, for M = 11  and λ = 0.01.\n",
    "\n",
    "\n",
    "Now, as the last step of the solution, let us verify the hypothesis we stated regarding the Learning rate(η). "
   ]
  },
  {
   "cell_type": "code",
   "execution_count": 82,
   "metadata": {
    "collapsed": false
   },
   "outputs": [
    {
     "data": {
      "image/png": "[encoded data removed]",
      "text/plain": [
       "<matplotlib.figure.Figure at 0x10af6e850>"
      ]
     },
     "metadata": {},
     "output_type": "display_data"
    }
   ],
   "source": [
    "plt.plot(learning_rate_changes_sgd, 'g-', label='Learning Rate')\n",
    "plt.axis([0, 100, 0, 1])\n",
    "plt.ylabel('Learning Rate Eta Value')\n",
    "plt.xlabel('SGD Iteration')\n",
    "plt.title('Learning Rate Decay as Model converges')\n",
    "l = plt.legend()\n",
    "plt.show()"
   ]
  },
  {
   "cell_type": "markdown",
   "metadata": {},
   "source": [
    "##### We had stated that for choosing the learning rate, we shall begin with η=1, and let the learning rate be adaptive. \n",
    "##### As the iterations over different datapoints in the training set go on, the η value adjusts itself, so as to not overshoot the optimal solution(minima in the cost function of SGD) by decreasing the value as the weights approach towards the solution.\n",
    "\n",
    "##### As can be verified from the Learning rate plot, its a decay plot and the learning rate(η) keeps on decreasing as the iterations proceed and we move closer towards the optimal solution.\n",
    "\n",
    "Let us also plot the Training error as the number of iterations of the SGD algorithm increase. \n",
    "\n",
    "The intuition as we have learnt for Stochastic Gradient Descent Algorithm is that, initially the training error would be high and will have drastic fluctuations, as the algorithm is making predicions based on a few datapoints it has seen. \n",
    "\n",
    "As the iterations increase, the model becomes more robust and the rate of change of error reduces."
   ]
  },
  {
   "cell_type": "code",
   "execution_count": 201,
   "metadata": {
    "collapsed": false
   },
   "outputs": [
    {
     "data": {
      "image/png": "[encoded data removed]",
      "text/plain": [
       "<matplotlib.figure.Figure at 0x10cc21f50>"
      ]
     },
     "metadata": {},
     "output_type": "display_data"
    }
   ],
   "source": [
    "plt.plot(error_iteration_letor_sgd, 'r-', label='Train Error')\n",
    "plt.axis([0, 50, 0.4, 1])\n",
    "plt.ylabel('RMSE Training')\n",
    "plt.xlabel('SGD Iteration')\n",
    "plt.title('Change in Training Error vs SGD Iterations')\n",
    "l = plt.legend()\n",
    "plt.show()"
   ]
  },
  {
   "cell_type": "markdown",
   "metadata": {},
   "source": [
    "__As expected, the train error keeps decreasing as the number of iterations of SGD increase. Also notice the fluctuations at the beginning of the model training, and robustness later on.__"
   ]
  },
  {
   "cell_type": "markdown",
   "metadata": {
    "collapsed": true
   },
   "source": [
    "Now let us apply the closed form algorithm and the Stochastic Gradient Descent(SGD) algorithm to train a linear regression model on synthetic dataset.\n",
    "## 3. Train a linear regression model on a synthetic dataset using a closed-form solution\n",
    "## Synthetic Dataset\n",
    "\n",
    "Here we use the same approach as done in the real world dataset. We import the data in the correct format. Create the features matrix and apply the formulas as above.\n",
    "\n",
    "Here again we try to find the best combination of the M and lambda. \n",
    "\n",
    "This dataset is generated manually with some function and noise added to it.\n",
    "\n",
    "### A. Read the Dataset\n",
    "We have been given a csv files 'input.csv' and 'output.csv' containing the dataset and the output labels respectively. \n",
    "The entire dataset consists of 20000 query-document pairs(rows), each having 10 features.\n",
    "\n",
    "    Example row:\n",
    "    0.087818435,0.858358352,0.480301599,0.791889746,0.851982177,0.05105807,0.346481842,0.473231998,0.084642606,0.263171674\n",
    "\n",
    "Each comma-separated value is a feature of the input data point, and the corresponding class is denoted in the output.csv row."
   ]
  },
  {
   "cell_type": "code",
   "execution_count": 30,
   "metadata": {
    "collapsed": true
   },
   "outputs": [],
   "source": [
    "def read_data_file_synthetic(in_filename, out_filename):\n",
    "    input_matrix = []\n",
    "    output_vec = []\n",
    "\n",
    "    lines_in = [line.rstrip('\\n') for line in open(in_filename)]\n",
    "    lines_out = [line.rstrip('\\n') for line in open(out_filename)]\n",
    "\n",
    "    print len(lines_in), len(lines_out)\n",
    "    for line in lines_out:\n",
    "        output_vec.append(int(line))\n",
    "\n",
    "    for line in lines_in:\n",
    "        token_list = line.split(',')\n",
    "        input_vec = []\n",
    "        for token in token_list:\n",
    "            input_vec.append(float(token))\n",
    "        input_matrix.append(input_vec)\n",
    "\n",
    "    output_vec = np.array(output_vec)\n",
    "    input_matrix = np.array(input_matrix)\n",
    "    return input_matrix, output_vec"
   ]
  },
  {
   "cell_type": "code",
   "execution_count": 31,
   "metadata": {
    "collapsed": false
   },
   "outputs": [
    {
     "name": "stdout",
     "output_type": "stream",
     "text": [
      "20000 20000\n"
     ]
    }
   ],
   "source": [
    "in_filename_syn = 'input.csv'\n",
    "out_filename_syn = 'output.csv'\n",
    "feature_mat_syn, output_labels_syn = read_data_file_synthetic(in_filename_syn, out_filename_syn)"
   ]
  },
  {
   "cell_type": "markdown",
   "metadata": {},
   "source": [
    "### B. Train - Validation - Test Split \n",
    "As for the LeToR dataset, we must __Shuffle the dataset__ randomly before we split it into training, validation and test set. We need to shuffle the dataset randomly, so that each of the 3 sets do not have any bias with respect to any specific output label. We shall use the __numpy.random.shuffle()__ for shuffling the given dataset.\n",
    "\n",
    "Split the feature matrix and the output vector into: Training data, Validation data, Test data, using the appropriate percentage distribution. We shall use a __80%-10%-10% split__ corresponding each category.\n",
    "We divide the dataset as 80-10-10 where the first 80% of the dataset is the Training data, and the next 10 percents being the validation and testing data respectively. This is a rough heuristics that we consider before carrying out\n",
    "our computation."
   ]
  },
  {
   "cell_type": "code",
   "execution_count": 32,
   "metadata": {
    "collapsed": false
   },
   "outputs": [
    {
     "name": "stdout",
     "output_type": "stream",
     "text": [
      "Number of samples in Training Data:  16000\n",
      "Number of samples in Validation Data:  2000\n",
      "Number of samples in Test Data:  2000\n"
     ]
    }
   ],
   "source": [
    "train_percent = 0.8\n",
    "validation_percent = 0.1\n",
    "training_data_syn, training_labels_syn, valid_data_syn, valid_labels_syn, test_data_syn, test_labels_syn = split_training_data(feature_mat_syn, output_labels_syn, train_percent, validation_percent)\n",
    "print \"Number of samples in Training Data: \", len(training_data_syn)\n",
    "print \"Number of samples in Validation Data: \", len(valid_data_syn)\n",
    "print \"Number of samples in Test Data: \", len(test_data_syn)"
   ]
  },
  {
   "cell_type": "markdown",
   "metadata": {},
   "source": [
    "We have already defined the functions necessary for applying the __Closed Form Solution__ algorithm and __Stochastic Gradient Descent__ algorithm. We have also defined our approach to applying the Closed Form solution. We shall use the same strategy as for the LeToR dataset, and train model iteratively for different values of regularisation parameter(λ) and number of Gaussian basis functions(M).\n",
    "\n",
    "#### Strategy - After training each model, we shall observe the performance of each model on the Validation Set by calculating the RMSE, and shall choose the model with least RMSE value on the validation set.\n",
    "#### Using the best training model obtained above, with the least RMSE on validation set, we shall calculate the RMSE on the TEST Data set, and shall report the performance of our model as solution on the synthetic dataset."
   ]
  },
  {
   "cell_type": "code",
   "execution_count": 33,
   "metadata": {
    "collapsed": false
   },
   "outputs": [
    {
     "name": "stdout",
     "output_type": "stream",
     "text": [
      "λ =  0.001\n",
      "λ =  0.01\n",
      "λ =  0.1\n",
      "λ =  0.5\n",
      "λ =  1\n"
     ]
    }
   ],
   "source": [
    "lamda_values = [0.001, 0.01, 0.1, 0.5, 1]\n",
    "error_matrix_syn = {'closed_form':{'train':{}, 'validation':{}}, 'sgd': {'train':{}, 'validation':{}}}\n",
    "for lamda in lamda_values:\n",
    "    print \"λ = \", lamda\n",
    "    error_matrix_syn['closed_form']['train'][lamda] = []\n",
    "    error_matrix_syn['closed_form']['validation'][lamda] = []\n",
    "    for num_basis in range(1, 11):\n",
    "        design_matrix_train_syn, sigma_inv_syn, rbf_centers_syn = create_design_matrix_train_data(training_data_syn, training_labels_syn, lamda, num_basis)\n",
    "        weights_syn, rmse_train_syn = closed_form_solution_training_phase(design_matrix_train_syn, sigma_inv_syn, training_labels_syn, lamda, num_basis)\n",
    "        design_matrix_validation_syn = create_design_matrix_data(valid_data_syn, sigma_inv_syn, rbf_centers_syn, num_basis)\n",
    "        rmse_validation_syn = calculate_error(design_matrix_validation_syn, weights_syn, valid_labels_syn)\n",
    "        error_matrix_syn['closed_form']['train'][lamda].append(rmse_train_syn)\n",
    "        error_matrix_syn['closed_form']['validation'][lamda].append(rmse_validation_syn)"
   ]
  },
  {
   "cell_type": "markdown",
   "metadata": {},
   "source": [
    "We have stored the model performance corresponding to each trained model, with unique combination of (M, λ) in the error_matrix_syn['closed_form'] dictionary.\n",
    "\n",
    "We shall now plot the model performance parameters, and shall study how the performance changes as the model complexity increases for different values of regularisation parameter.\n",
    "This will enable us to choose the best trained model which fits the given synthetic dataset optimally."
   ]
  },
  {
   "cell_type": "code",
   "execution_count": 34,
   "metadata": {
    "collapsed": false
   },
   "outputs": [
    {
     "name": "stdout",
     "output_type": "stream",
     "text": [
      "Plot for RMSE Validation across different number of Gaussian Basis Functions, for λ =  0.001\n"
     ]
    },
    {
     "data": {
      "image/png": "[encoded data removed]",
      "text/plain": [
       "<matplotlib.figure.Figure at 0x117837e10>"
      ]
     },
     "metadata": {},
     "output_type": "display_data"
    },
    {
     "name": "stdout",
     "output_type": "stream",
     "text": [
      "Plot for RMSE Validation across different number of Gaussian Basis Functions, for λ =  0.01\n"
     ]
    },
    {
     "data": {
      "image/png": "[encoded data removed]",
      "text/plain": [
       "<matplotlib.figure.Figure at 0x112a4aed0>"
      ]
     },
     "metadata": {},
     "output_type": "display_data"
    },
    {
     "name": "stdout",
     "output_type": "stream",
     "text": [
      "Plot for RMSE Validation across different number of Gaussian Basis Functions, for λ =  0.1\n"
     ]
    },
    {
     "data": {
      "image/png": "[encoded data removed]",
      "text/plain": [
       "<matplotlib.figure.Figure at 0x10f350310>"
      ]
     },
     "metadata": {},
     "output_type": "display_data"
    },
    {
     "name": "stdout",
     "output_type": "stream",
     "text": [
      "Plot for RMSE Validation across different number of Gaussian Basis Functions, for λ =  0.5\n"
     ]
    },
    {
     "data": {
      "image/png": "[encoded data removed]",
      "text/plain": [
       "<matplotlib.figure.Figure at 0x112a22c10>"
      ]
     },
     "metadata": {},
     "output_type": "display_data"
    },
    {
     "name": "stdout",
     "output_type": "stream",
     "text": [
      "Plot for RMSE Validation across different number of Gaussian Basis Functions, for λ =  1\n"
     ]
    },
    {
     "data": {
      "image/png": "[encoded data removed]",
      "text/plain": [
       "<matplotlib.figure.Figure at 0x118892f50>"
      ]
     },
     "metadata": {},
     "output_type": "display_data"
    }
   ],
   "source": [
    "for lamda in sorted(error_matrix_syn['closed_form']['train']):\n",
    "    print \"Plot for RMSE Validation across different number of Gaussian Basis Functions, for λ = \", lamda\n",
    "    plot_data(error_matrix_syn['closed_form']['validation'][lamda],error_matrix_syn['closed_form']['train'][lamda], lamda, 'RMSE Validation', 'RMSE Training', [1, 9, 0.6, 0.8])"
   ]
  },
  {
   "cell_type": "markdown",
   "metadata": {},
   "source": [
    "Let us inspect all the values of RMSE Training(Erms,t) and RMSE Validation(Erms,v) for different values of regularisation parameter and number of basis functions M, for all models trained using closed form solution on our synthetic dataset.\n",
    "\n",
    "__Note that, we shall choose the model as the best fit, which has least RMSE Validation(Erms,v). As stated earlier, the test dataset has been secluded until this spot, and we shall only calculate the final model performnace on it.__"
   ]
  },
  {
   "cell_type": "code",
   "execution_count": 36,
   "metadata": {
    "collapsed": false
   },
   "outputs": [
    {
     "name": "stdout",
     "output_type": "stream",
     "text": [
      "RMSE Training for different values of λ(column headers) and Number of basis Functions(row headers)\n"
     ]
    },
    {
     "data": {
      "text/html": [
       "<div>\n",
       "<table border=\"1\" class=\"dataframe\">\n",
       "  <thead>\n",
       "    <tr style=\"text-align: right;\">\n",
       "      <th></th>\n",
       "      <th>0.001</th>\n",
       "      <th>0.01</th>\n",
       "      <th>0.1</th>\n",
       "      <th>0.5</th>\n",
       "      <th>1.0</th>\n",
       "    </tr>\n",
       "  </thead>\n",
       "  <tbody>\n",
       "    <tr>\n",
       "      <th>1</th>\n",
       "      <td>0.789995</td>\n",
       "      <td>0.789995</td>\n",
       "      <td>0.789995</td>\n",
       "      <td>0.789995</td>\n",
       "      <td>0.789995</td>\n",
       "    </tr>\n",
       "    <tr>\n",
       "      <th>2</th>\n",
       "      <td>0.744618</td>\n",
       "      <td>0.744618</td>\n",
       "      <td>0.744621</td>\n",
       "      <td>0.744700</td>\n",
       "      <td>0.744919</td>\n",
       "    </tr>\n",
       "    <tr>\n",
       "      <th>3</th>\n",
       "      <td>0.740463</td>\n",
       "      <td>0.740463</td>\n",
       "      <td>0.740465</td>\n",
       "      <td>0.740513</td>\n",
       "      <td>0.740651</td>\n",
       "    </tr>\n",
       "    <tr>\n",
       "      <th>4</th>\n",
       "      <td>0.735468</td>\n",
       "      <td>0.735468</td>\n",
       "      <td>0.735470</td>\n",
       "      <td>0.735529</td>\n",
       "      <td>0.735696</td>\n",
       "    </tr>\n",
       "    <tr>\n",
       "      <th>5</th>\n",
       "      <td>0.727718</td>\n",
       "      <td>0.727718</td>\n",
       "      <td>0.727721</td>\n",
       "      <td>0.727799</td>\n",
       "      <td>0.728017</td>\n",
       "    </tr>\n",
       "    <tr>\n",
       "      <th>6</th>\n",
       "      <td>0.708025</td>\n",
       "      <td>0.708025</td>\n",
       "      <td>0.708032</td>\n",
       "      <td>0.708189</td>\n",
       "      <td>0.708624</td>\n",
       "    </tr>\n",
       "    <tr>\n",
       "      <th>7</th>\n",
       "      <td>0.723123</td>\n",
       "      <td>0.723123</td>\n",
       "      <td>0.723128</td>\n",
       "      <td>0.723236</td>\n",
       "      <td>0.723534</td>\n",
       "    </tr>\n",
       "    <tr>\n",
       "      <th>8</th>\n",
       "      <td>0.702904</td>\n",
       "      <td>0.702904</td>\n",
       "      <td>0.702911</td>\n",
       "      <td>0.703060</td>\n",
       "      <td>0.703471</td>\n",
       "    </tr>\n",
       "    <tr>\n",
       "      <th>9</th>\n",
       "      <td>0.712371</td>\n",
       "      <td>0.712371</td>\n",
       "      <td>0.712377</td>\n",
       "      <td>0.712517</td>\n",
       "      <td>0.712902</td>\n",
       "    </tr>\n",
       "    <tr>\n",
       "      <th>10</th>\n",
       "      <td>0.709717</td>\n",
       "      <td>0.709717</td>\n",
       "      <td>0.709723</td>\n",
       "      <td>0.709843</td>\n",
       "      <td>0.710176</td>\n",
       "    </tr>\n",
       "  </tbody>\n",
       "</table>\n",
       "</div>"
      ],
      "text/plain": [
       "       0.001     0.010     0.100     0.500     1.000\n",
       "1   0.789995  0.789995  0.789995  0.789995  0.789995\n",
       "2   0.744618  0.744618  0.744621  0.744700  0.744919\n",
       "3   0.740463  0.740463  0.740465  0.740513  0.740651\n",
       "4   0.735468  0.735468  0.735470  0.735529  0.735696\n",
       "5   0.727718  0.727718  0.727721  0.727799  0.728017\n",
       "6   0.708025  0.708025  0.708032  0.708189  0.708624\n",
       "7   0.723123  0.723123  0.723128  0.723236  0.723534\n",
       "8   0.702904  0.702904  0.702911  0.703060  0.703471\n",
       "9   0.712371  0.712371  0.712377  0.712517  0.712902\n",
       "10  0.709717  0.709717  0.709723  0.709843  0.710176"
      ]
     },
     "execution_count": 36,
     "metadata": {},
     "output_type": "execute_result"
    }
   ],
   "source": []
  },
  {
   "cell_type": "code",
   "execution_count": 37,
   "metadata": {
    "collapsed": false
   },
   "outputs": [
    {
     "name": "stdout",
     "output_type": "stream",
     "text": [
      "RMSE Validation for different values of λ(column headers) and Number of basis Functions(row headers)\n"
     ]
    },
    {
     "data": {
      "text/html": [
       "<div>\n",
       "<table border=\"1\" class=\"dataframe\">\n",
       "  <thead>\n",
       "    <tr style=\"text-align: right;\">\n",
       "      <th></th>\n",
       "      <th>0.001</th>\n",
       "      <th>0.01</th>\n",
       "      <th>0.1</th>\n",
       "      <th>0.5</th>\n",
       "      <th>1.0</th>\n",
       "    </tr>\n",
       "  </thead>\n",
       "  <tbody>\n",
       "    <tr>\n",
       "      <th>1</th>\n",
       "      <td>0.785390</td>\n",
       "      <td>0.785390</td>\n",
       "      <td>0.785390</td>\n",
       "      <td>0.785391</td>\n",
       "      <td>0.785392</td>\n",
       "    </tr>\n",
       "    <tr>\n",
       "      <th>2</th>\n",
       "      <td>0.742942</td>\n",
       "      <td>0.742933</td>\n",
       "      <td>0.742846</td>\n",
       "      <td>0.742550</td>\n",
       "      <td>0.742359</td>\n",
       "    </tr>\n",
       "    <tr>\n",
       "      <th>3</th>\n",
       "      <td>0.735151</td>\n",
       "      <td>0.735149</td>\n",
       "      <td>0.735130</td>\n",
       "      <td>0.735093</td>\n",
       "      <td>0.735139</td>\n",
       "    </tr>\n",
       "    <tr>\n",
       "      <th>4</th>\n",
       "      <td>0.730700</td>\n",
       "      <td>0.730694</td>\n",
       "      <td>0.730638</td>\n",
       "      <td>0.730452</td>\n",
       "      <td>0.730353</td>\n",
       "    </tr>\n",
       "    <tr>\n",
       "      <th>5</th>\n",
       "      <td>0.722294</td>\n",
       "      <td>0.722289</td>\n",
       "      <td>0.722248</td>\n",
       "      <td>0.722138</td>\n",
       "      <td>0.722146</td>\n",
       "    </tr>\n",
       "    <tr>\n",
       "      <th>6</th>\n",
       "      <td>0.703701</td>\n",
       "      <td>0.703701</td>\n",
       "      <td>0.703702</td>\n",
       "      <td>0.703830</td>\n",
       "      <td>0.704219</td>\n",
       "    </tr>\n",
       "    <tr>\n",
       "      <th>7</th>\n",
       "      <td>0.714902</td>\n",
       "      <td>0.714898</td>\n",
       "      <td>0.714871</td>\n",
       "      <td>0.714853</td>\n",
       "      <td>0.715031</td>\n",
       "    </tr>\n",
       "    <tr>\n",
       "      <th>8</th>\n",
       "      <td>0.701029</td>\n",
       "      <td>0.701026</td>\n",
       "      <td>0.701003</td>\n",
       "      <td>0.701021</td>\n",
       "      <td>0.701277</td>\n",
       "    </tr>\n",
       "    <tr>\n",
       "      <th>9</th>\n",
       "      <td>0.709320</td>\n",
       "      <td>0.709327</td>\n",
       "      <td>0.709394</td>\n",
       "      <td>0.709779</td>\n",
       "      <td>0.710416</td>\n",
       "    </tr>\n",
       "    <tr>\n",
       "      <th>10</th>\n",
       "      <td>0.713768</td>\n",
       "      <td>0.713747</td>\n",
       "      <td>0.713543</td>\n",
       "      <td>0.712804</td>\n",
       "      <td>0.712203</td>\n",
       "    </tr>\n",
       "  </tbody>\n",
       "</table>\n",
       "</div>"
      ],
      "text/plain": [
       "       0.001     0.010     0.100     0.500     1.000\n",
       "1   0.785390  0.785390  0.785390  0.785391  0.785392\n",
       "2   0.742942  0.742933  0.742846  0.742550  0.742359\n",
       "3   0.735151  0.735149  0.735130  0.735093  0.735139\n",
       "4   0.730700  0.730694  0.730638  0.730452  0.730353\n",
       "5   0.722294  0.722289  0.722248  0.722138  0.722146\n",
       "6   0.703701  0.703701  0.703702  0.703830  0.704219\n",
       "7   0.714902  0.714898  0.714871  0.714853  0.715031\n",
       "8   0.701029  0.701026  0.701003  0.701021  0.701277\n",
       "9   0.709320  0.709327  0.709394  0.709779  0.710416\n",
       "10  0.713768  0.713747  0.713543  0.712804  0.712203"
      ]
     },
     "execution_count": 37,
     "metadata": {},
     "output_type": "execute_result"
    }
   ],
   "source": []
  },
  {
   "cell_type": "markdown",
   "metadata": {},
   "source": [
    "### After reviewing the RMSE Validation for different values of M and λ, and from the plots above, we can see that the training model with M = 8 and λ = 0.1, has the best performance for fitting the given Synthetic dataset and has the least RMSE on Validation set = 0.701\n",
    "\n",
    "### Hence, this is the model and the parameters that we shall choose as our solution. Let us print the performance metrics of the model and the final weights of the trained model.\n",
    "\n",
    "__Now let us go ahead and measure the model performance on TEST DATA SET. The RMSE on Test set shall be reported as the performance of our linear regression model.__"
   ]
  },
  {
   "cell_type": "code",
   "execution_count": 40,
   "metadata": {
    "collapsed": false
   },
   "outputs": [],
   "source": [
    "lamda = 0.1\n",
    "num_basis = 8\n",
    "design_matrix_train_syn_closed, sigma_inv_syn_closed, rbf_centers_syn_closed = create_design_matrix_train_data(training_data_syn, training_labels_syn, lamda, num_basis)\n",
    "weights_syn_closed, rmse_train_syn_closed= closed_form_solution_training_phase(design_matrix_train_syn_closed, sigma_inv_syn_closed, training_labels_syn, lamda, num_basis)\n",
    "design_matrix_validation_syn_closed = create_design_matrix_data(valid_data_syn, sigma_inv_syn_closed, rbf_centers_syn_closed, num_basis)\n",
    "rmse_validation_syn_closed = calculate_error(design_matrix_validation_syn_closed, weights_syn_closed, valid_labels_syn)\n",
    "design_matrix_test_syn_closed = create_design_matrix_data(test_data_syn, sigma_inv_syn_closed, rbf_centers_syn_closed, num_basis)\n",
    "rmse_test_syn_closed = calculate_error(design_matrix_test_syn_closed, weights_syn_closed, test_labels_syn)"
   ]
  },
  {
   "cell_type": "code",
   "execution_count": 41,
   "metadata": {
    "collapsed": false
   },
   "outputs": [
    {
     "name": "stdout",
     "output_type": "stream",
     "text": [
      "Best fit Linear Regression Model using Closed Form Solution Performance: \n",
      "\n",
      "\n",
      "RMSE on Training Set:  0.702910964106\n",
      "\n",
      "\n",
      "RMSE on Validation Set:  0.701002785416\n",
      "\n",
      "\n",
      "RMSE on Test Set:  0.703795980591\n",
      "\n",
      "\n",
      "Weights Vector(w) for the trained Model:\n",
      "[ 0.77260372  8.79510525  5.00020789 -1.61916018 -4.78165888  1.10689493\n",
      "  4.59794028  3.83249897]\n"
     ]
    }
   ],
   "source": [
    "print \"Best fit Linear Regression Model using Closed Form Solution Performance: \"\n",
    "print \"\\n\"\n",
    "print \"RMSE on Training Set: \", rmse_train_syn_closed \n",
    "print \"\\n\"\n",
    "print \"RMSE on Validation Set: \", rmse_validation_syn_closed\n",
    "print \"\\n\"\n",
    "print \"RMSE on Test Set: \", rmse_test_syn_closed\n",
    "print \"\\n\"\n",
    "print \"Weights Vector(w) for the trained Model:\\n\", weights_syn_closed"
   ]
  },
  {
   "cell_type": "markdown",
   "metadata": {},
   "source": [
    "### As we see, the Root Mean Square Error of our trained linear regression model using Closed Form Solution and Gaussian Basis Functions on Test Synthetic Dataset is 0.7038, for M = 8  and λ = 0.1\n",
    "\n",
    "\n",
    "Now let us try finding the solution to the same Synthetic dataset, but this time, we shall be using Stochastic Gradient Descent Algorithm, for finding the weight vector(w) which give us the minimum RMSE value on Validation set.\n",
    "\n",
    "### 4. Train a linear regression model on the synthetic dataset using Stochastic Gradient Descent (SGD)\n",
    "\n",
    "### Stochastic Gradient Descent\n"
   ]
  },
  {
   "cell_type": "code",
   "execution_count": 43,
   "metadata": {
    "collapsed": false
   },
   "outputs": [
    {
     "name": "stdout",
     "output_type": "stream",
     "text": [
      "λ =  0.001\n",
      "λ =  0.01\n",
      "λ =  0.1\n",
      "λ =  0.5\n",
      "λ =  1\n"
     ]
    }
   ],
   "source": [
    "lamda_values = [0.001, 0.01, 0.1, 0.5, 1]\n",
    "for lamda in lamda_values:\n",
    "    print \"λ = \", lamda\n",
    "    error_matrix_syn['sgd']['train'][lamda] = []\n",
    "    error_matrix_syn['sgd']['validation'][lamda] = []\n",
    "    for num_basis in range(1, 11):\n",
    "        design_matrix_train_syn_sgd, sigma_inv_syn_sgd, rbf_centers_syn_sgd = create_design_matrix_train_data(training_data_syn, training_labels_syn, lamda, num_basis)\n",
    "        weights_syn_sgd, rmse_train_syn_sgd, learning_rate_changes_syn, error_iteration_syn = stochastic_gradient_solution(design_matrix_train_syn_sgd, training_labels_syn, lamda, num_basis)\n",
    "        design_matrix_validation_syn_sgd = create_design_matrix_data(valid_data_syn, sigma_inv_syn_sgd, rbf_centers_syn_sgd, num_basis)\n",
    "        rmse_validation_syn_sgd = calculate_error(design_matrix_validation_syn_sgd, weights_syn_sgd, valid_labels_syn)\n",
    "        error_matrix_syn['sgd']['train'][lamda].append(rmse_train_syn_sgd)\n",
    "        error_matrix_syn['sgd']['validation'][lamda].append(rmse_validation_syn_sgd)"
   ]
  },
  {
   "cell_type": "markdown",
   "metadata": {},
   "source": [
    "We have stored the model performance corresponding to each trained model, with unique combination of (M, λ) in the error_matrix_letor['sgd'] dictionary.\n",
    "\n",
    "We shall now plot the model performance parameters, and shall study how the performance changes as the model complexity increases for different values of regularisation parameter.\n",
    "This will enable us to choose the best trained model which fits the given Synthetic dataset optimally."
   ]
  },
  {
   "cell_type": "code",
   "execution_count": 45,
   "metadata": {
    "collapsed": false
   },
   "outputs": [
    {
     "name": "stdout",
     "output_type": "stream",
     "text": [
      "Plot for RMSE Validation across different number of Gaussian Basis Functions, for λ =  0.001\n"
     ]
    },
    {
     "data": {
      "image/png": "[encoded data removed]",
      "text/plain": [
       "<matplotlib.figure.Figure at 0x1171841d0>"
      ]
     },
     "metadata": {},
     "output_type": "display_data"
    },
    {
     "name": "stdout",
     "output_type": "stream",
     "text": [
      "Plot for RMSE Validation across different number of Gaussian Basis Functions, for λ =  0.01\n"
     ]
    },
    {
     "data": {
      "image/png": "[encoded data removed]",
      "text/plain": [
       "<matplotlib.figure.Figure at 0x1171cb790>"
      ]
     },
     "metadata": {},
     "output_type": "display_data"
    },
    {
     "name": "stdout",
     "output_type": "stream",
     "text": [
      "Plot for RMSE Validation across different number of Gaussian Basis Functions, for λ =  0.1\n"
     ]
    },
    {
     "data": {
      "image/png": "[encoded data removed]",
      "text/plain": [
       "<matplotlib.figure.Figure at 0x1173a9190>"
      ]
     },
     "metadata": {},
     "output_type": "display_data"
    },
    {
     "name": "stdout",
     "output_type": "stream",
     "text": [
      "Plot for RMSE Validation across different number of Gaussian Basis Functions, for λ =  0.5\n"
     ]
    },
    {
     "data": {
      "image/png": "[encoded data removed]",
      "text/plain": [
       "<matplotlib.figure.Figure at 0x10f39d750>"
      ]
     },
     "metadata": {},
     "output_type": "display_data"
    },
    {
     "name": "stdout",
     "output_type": "stream",
     "text": [
      "Plot for RMSE Validation across different number of Gaussian Basis Functions, for λ =  1\n"
     ]
    },
    {
     "data": {
      "image/png": "[encoded data removed]",
      "text/plain": [
       "<matplotlib.figure.Figure at 0x112d08350>"
      ]
     },
     "metadata": {},
     "output_type": "display_data"
    }
   ],
   "source": [
    "for lamda in sorted(error_matrix_syn['sgd']['train']):\n",
    "    print \"Plot for RMSE Validation across different number of Gaussian Basis Functions, for λ = \", lamda\n",
    "    plot_data(error_matrix_syn['sgd']['validation'][lamda],error_matrix_syn['sgd']['train'][lamda], lamda, 'RMSE Validation', 'RMSE Training', [0, 10, 0.7, 1.2])"
   ]
  },
  {
   "cell_type": "markdown",
   "metadata": {},
   "source": [
    "Let us inspect all the values of RMSE Training(Erms,t) and RMSE Validation(Erms,v) for different values of regularisation parameter and number of basis functions M.\n",
    "\n",
    "__Note that, we shall choose the model as the best fit, which has least RMSE Validation(Erms,v). As stated earlier, the test dataset has been secluded until this spot, and we shall only calculate the final model performnace on it.__"
   ]
  },
  {
   "cell_type": "code",
   "execution_count": 47,
   "metadata": {
    "collapsed": false
   },
   "outputs": [
    {
     "name": "stdout",
     "output_type": "stream",
     "text": [
      "RMSE Training for different values of λ(column headers) and Number of basis Functions(row headers)\n"
     ]
    },
    {
     "data": {
      "text/html": [
       "<div>\n",
       "<table border=\"1\" class=\"dataframe\">\n",
       "  <thead>\n",
       "    <tr style=\"text-align: right;\">\n",
       "      <th></th>\n",
       "      <th>0.001</th>\n",
       "      <th>0.01</th>\n",
       "      <th>0.1</th>\n",
       "      <th>0.5</th>\n",
       "      <th>1.0</th>\n",
       "    </tr>\n",
       "  </thead>\n",
       "  <tbody>\n",
       "    <tr>\n",
       "      <th>1</th>\n",
       "      <td>0.808289</td>\n",
       "      <td>0.794406</td>\n",
       "      <td>0.800734</td>\n",
       "      <td>0.922665</td>\n",
       "      <td>0.912619</td>\n",
       "    </tr>\n",
       "    <tr>\n",
       "      <th>2</th>\n",
       "      <td>0.789101</td>\n",
       "      <td>0.786424</td>\n",
       "      <td>0.811884</td>\n",
       "      <td>0.820089</td>\n",
       "      <td>0.909038</td>\n",
       "    </tr>\n",
       "    <tr>\n",
       "      <th>3</th>\n",
       "      <td>0.799173</td>\n",
       "      <td>0.807906</td>\n",
       "      <td>0.804233</td>\n",
       "      <td>0.939348</td>\n",
       "      <td>0.908506</td>\n",
       "    </tr>\n",
       "    <tr>\n",
       "      <th>4</th>\n",
       "      <td>0.812657</td>\n",
       "      <td>0.833139</td>\n",
       "      <td>0.798764</td>\n",
       "      <td>0.844681</td>\n",
       "      <td>0.883033</td>\n",
       "    </tr>\n",
       "    <tr>\n",
       "      <th>5</th>\n",
       "      <td>0.802881</td>\n",
       "      <td>0.803998</td>\n",
       "      <td>0.778793</td>\n",
       "      <td>0.929516</td>\n",
       "      <td>0.941210</td>\n",
       "    </tr>\n",
       "    <tr>\n",
       "      <th>6</th>\n",
       "      <td>0.787374</td>\n",
       "      <td>0.781912</td>\n",
       "      <td>0.790235</td>\n",
       "      <td>0.908654</td>\n",
       "      <td>0.997962</td>\n",
       "    </tr>\n",
       "    <tr>\n",
       "      <th>7</th>\n",
       "      <td>0.803729</td>\n",
       "      <td>0.835950</td>\n",
       "      <td>0.828459</td>\n",
       "      <td>0.862706</td>\n",
       "      <td>0.907712</td>\n",
       "    </tr>\n",
       "    <tr>\n",
       "      <th>8</th>\n",
       "      <td>0.805949</td>\n",
       "      <td>0.793218</td>\n",
       "      <td>0.796714</td>\n",
       "      <td>0.815847</td>\n",
       "      <td>0.929838</td>\n",
       "    </tr>\n",
       "    <tr>\n",
       "      <th>9</th>\n",
       "      <td>0.786405</td>\n",
       "      <td>0.822663</td>\n",
       "      <td>0.815007</td>\n",
       "      <td>0.863394</td>\n",
       "      <td>0.928718</td>\n",
       "    </tr>\n",
       "    <tr>\n",
       "      <th>10</th>\n",
       "      <td>0.799475</td>\n",
       "      <td>0.795726</td>\n",
       "      <td>0.781492</td>\n",
       "      <td>0.881797</td>\n",
       "      <td>0.901134</td>\n",
       "    </tr>\n",
       "  </tbody>\n",
       "</table>\n",
       "</div>"
      ],
      "text/plain": [
       "       0.001     0.010     0.100     0.500     1.000\n",
       "1   0.808289  0.794406  0.800734  0.922665  0.912619\n",
       "2   0.789101  0.786424  0.811884  0.820089  0.909038\n",
       "3   0.799173  0.807906  0.804233  0.939348  0.908506\n",
       "4   0.812657  0.833139  0.798764  0.844681  0.883033\n",
       "5   0.802881  0.803998  0.778793  0.929516  0.941210\n",
       "6   0.787374  0.781912  0.790235  0.908654  0.997962\n",
       "7   0.803729  0.835950  0.828459  0.862706  0.907712\n",
       "8   0.805949  0.793218  0.796714  0.815847  0.929838\n",
       "9   0.786405  0.822663  0.815007  0.863394  0.928718\n",
       "10  0.799475  0.795726  0.781492  0.881797  0.901134"
      ]
     },
     "execution_count": 47,
     "metadata": {},
     "output_type": "execute_result"
    }
   ],
   "source": []
  },
  {
   "cell_type": "code",
   "execution_count": 48,
   "metadata": {
    "collapsed": false
   },
   "outputs": [
    {
     "name": "stdout",
     "output_type": "stream",
     "text": [
      "RMSE Validation for different values of λ(column headers) and Number of basis Functions(row headers)\n"
     ]
    },
    {
     "data": {
      "text/html": [
       "<div>\n",
       "<table border=\"1\" class=\"dataframe\">\n",
       "  <thead>\n",
       "    <tr style=\"text-align: right;\">\n",
       "      <th></th>\n",
       "      <th>0.001</th>\n",
       "      <th>0.01</th>\n",
       "      <th>0.1</th>\n",
       "      <th>0.5</th>\n",
       "      <th>1.0</th>\n",
       "    </tr>\n",
       "  </thead>\n",
       "  <tbody>\n",
       "    <tr>\n",
       "      <th>1</th>\n",
       "      <td>0.807596</td>\n",
       "      <td>0.791723</td>\n",
       "      <td>0.793241</td>\n",
       "      <td>0.927985</td>\n",
       "      <td>0.917612</td>\n",
       "    </tr>\n",
       "    <tr>\n",
       "      <th>2</th>\n",
       "      <td>0.783044</td>\n",
       "      <td>0.782879</td>\n",
       "      <td>0.811470</td>\n",
       "      <td>0.820488</td>\n",
       "      <td>0.913894</td>\n",
       "    </tr>\n",
       "    <tr>\n",
       "      <th>3</th>\n",
       "      <td>0.790153</td>\n",
       "      <td>0.798987</td>\n",
       "      <td>0.796782</td>\n",
       "      <td>0.945136</td>\n",
       "      <td>0.913352</td>\n",
       "    </tr>\n",
       "    <tr>\n",
       "      <th>4</th>\n",
       "      <td>0.811797</td>\n",
       "      <td>0.837017</td>\n",
       "      <td>0.792415</td>\n",
       "      <td>0.846825</td>\n",
       "      <td>0.886935</td>\n",
       "    </tr>\n",
       "    <tr>\n",
       "      <th>5</th>\n",
       "      <td>0.793641</td>\n",
       "      <td>0.798795</td>\n",
       "      <td>0.772676</td>\n",
       "      <td>0.935015</td>\n",
       "      <td>0.947084</td>\n",
       "    </tr>\n",
       "    <tr>\n",
       "      <th>6</th>\n",
       "      <td>0.780725</td>\n",
       "      <td>0.778536</td>\n",
       "      <td>0.785404</td>\n",
       "      <td>0.913541</td>\n",
       "      <td>1.005256</td>\n",
       "    </tr>\n",
       "    <tr>\n",
       "      <th>7</th>\n",
       "      <td>0.804422</td>\n",
       "      <td>0.837841</td>\n",
       "      <td>0.819499</td>\n",
       "      <td>0.865713</td>\n",
       "      <td>0.912524</td>\n",
       "    </tr>\n",
       "    <tr>\n",
       "      <th>8</th>\n",
       "      <td>0.798391</td>\n",
       "      <td>0.785994</td>\n",
       "      <td>0.794393</td>\n",
       "      <td>0.815871</td>\n",
       "      <td>0.935408</td>\n",
       "    </tr>\n",
       "    <tr>\n",
       "      <th>9</th>\n",
       "      <td>0.781238</td>\n",
       "      <td>0.820497</td>\n",
       "      <td>0.805144</td>\n",
       "      <td>0.866458</td>\n",
       "      <td>0.934236</td>\n",
       "    </tr>\n",
       "    <tr>\n",
       "      <th>10</th>\n",
       "      <td>0.790502</td>\n",
       "      <td>0.790217</td>\n",
       "      <td>0.778111</td>\n",
       "      <td>0.885763</td>\n",
       "      <td>0.905729</td>\n",
       "    </tr>\n",
       "  </tbody>\n",
       "</table>\n",
       "</div>"
      ],
      "text/plain": [
       "       0.001     0.010     0.100     0.500     1.000\n",
       "1   0.807596  0.791723  0.793241  0.927985  0.917612\n",
       "2   0.783044  0.782879  0.811470  0.820488  0.913894\n",
       "3   0.790153  0.798987  0.796782  0.945136  0.913352\n",
       "4   0.811797  0.837017  0.792415  0.846825  0.886935\n",
       "5   0.793641  0.798795  0.772676  0.935015  0.947084\n",
       "6   0.780725  0.778536  0.785404  0.913541  1.005256\n",
       "7   0.804422  0.837841  0.819499  0.865713  0.912524\n",
       "8   0.798391  0.785994  0.794393  0.815871  0.935408\n",
       "9   0.781238  0.820497  0.805144  0.866458  0.934236\n",
       "10  0.790502  0.790217  0.778111  0.885763  0.905729"
      ]
     },
     "execution_count": 48,
     "metadata": {},
     "output_type": "execute_result"
    }
   ],
   "source": []
  },
  {
   "cell_type": "markdown",
   "metadata": {},
   "source": [
    "### After reviewing the RMSE Validation for different values of M and λ, and from the plots above, we can see that the training model with M = 5 and λ = 0.1, has the best performance for fitting the given Synthetic dataset using Stochastic Gradient Descent and has the least RMSE on Validation set = 0.7727\n",
    "\n",
    "### Hence, this is the model and the parameters that we shall choose as our solution. Let us print the performance metrics of the model and the final weights of the trained model.\n",
    "\n",
    "__Now let us go ahead and measure the model performance on TEST DATA SET. The RMSE on Test set shall be reported as the performance of our linear regression model using Stochastic Gradient Descent on LeToR Dataset.__"
   ]
  },
  {
   "cell_type": "code",
   "execution_count": 67,
   "metadata": {
    "collapsed": true
   },
   "outputs": [],
   "source": [
    "lamda = 0.1\n",
    "num_basis = 5\n",
    "design_matrix_train_syn_sgd, sigma_inv_syn_sgd, rbf_centers_syn_sgd = create_design_matrix_train_data(training_data_syn, training_labels_syn, lamda, num_basis)\n",
    "weights_syn_sgd, rmse_train_syn_sgd, learning_rate_changes_syn_sgd, error_iteration_syn_sgd = stochastic_gradient_solution(design_matrix_train_syn_sgd, training_labels_syn, lamda, num_basis)\n",
    "design_matrix_validation_syn_sgd = create_design_matrix_data(valid_data_syn, sigma_inv_syn_sgd, rbf_centers_syn_sgd, num_basis)\n",
    "rmse_validation_syn_sgd = calculate_error(design_matrix_validation_syn_sgd, weights_syn_sgd, valid_labels_syn)\n",
    "design_matrix_test_syn_sgd = create_design_matrix_data(test_data_syn, sigma_inv_syn_sgd, rbf_centers_syn_sgd, num_basis)\n",
    "rmse_test_syn_sgd = calculate_error(design_matrix_test_syn_sgd, weights_syn_sgd, test_labels_syn)"
   ]
  },
  {
   "cell_type": "code",
   "execution_count": 68,
   "metadata": {
    "collapsed": false
   },
   "outputs": [
    {
     "name": "stdout",
     "output_type": "stream",
     "text": [
      "Best fit Linear Regression Model using Stochastic Gradient Descent(SGD) Performance Metrics: \n",
      "\n",
      "\n",
      "RMSE on Training Set:  0.790984233768\n",
      "\n",
      "\n",
      "RMSE on Validation Set:  0.785747840733\n",
      "\n",
      "\n",
      "RMSE on Test Set:  0.789271504073\n",
      "\n",
      "\n",
      "Weights Vector(w) for the trained Model:\n",
      "[ 0.96941244  0.41271343 -0.52450814  0.53908908 -0.11550907]\n"
     ]
    }
   ],
   "source": [
    "print \"Best fit Linear Regression Model using Stochastic Gradient Descent(SGD) Performance Metrics: \"\n",
    "print \"\\n\"\n",
    "print \"RMSE on Training Set: \", rmse_train_syn_sgd \n",
    "print \"\\n\"\n",
    "print \"RMSE on Validation Set: \", rmse_validation_syn_sgd\n",
    "print \"\\n\"\n",
    "print \"RMSE on Test Set: \", rmse_test_syn_sgd\n",
    "print \"\\n\"\n",
    "print \"Weights Vector(w) for the trained Model:\\n\", weights_syn_sgd"
   ]
  },
  {
   "cell_type": "markdown",
   "metadata": {},
   "source": [
    "### As we see, the Root Mean Square Error of our trained linear regression model using Stochastic Gradient Descent Algorithm and Gaussian Basis Functions on Test Dataset is 0.7892, for M = 5  and λ = 0.1.\n",
    "\n",
    "Now, as the last step of the solution, let us verify the hypothesis we stated regarding the Learning rate(η). "
   ]
  },
  {
   "cell_type": "code",
   "execution_count": 66,
   "metadata": {
    "collapsed": false
   },
   "outputs": [
    {
     "data": {
      "image/png": "[encoded data removed]",
      "text/plain": [
       "<matplotlib.figure.Figure at 0x10f6e56d0>"
      ]
     },
     "metadata": {},
     "output_type": "display_data"
    }
   ],
   "source": [
    "plt.plot(learning_rate_changes_syn_sgd, 'g-', label='Learning Rate')\n",
    "plt.axis([0, 100, 0, 1])\n",
    "plt.ylabel('Learning Rate Eta Value')\n",
    "plt.xlabel('SGD Iteration')\n",
    "plt.title('Learning Rate Decay as Model converges')\n",
    "l = plt.legend()\n",
    "plt.show()"
   ]
  },
  {
   "cell_type": "markdown",
   "metadata": {},
   "source": [
    "##### As can be verified from the Learning rate plot, its a decay plot and the learning rate(η) keeps on decreasing as the iterations proceed and we move closer towards the optimal solution.\n",
    "\n",
    "Let us also plot the Training error as the number of iterations of the SGD algorithm increase. \n",
    "\n",
    "The intuition as we have learnt for Stochastic Gradient Descent Algorithm is that, initially the training error would be high and will have drastic fluctuations, as the algorithm is making predicions based on a few datapoints it has seen. \n",
    "\n",
    "As the iterations increase, the model becomes more robust and the rate of change of error reduces."
   ]
  },
  {
   "cell_type": "code",
   "execution_count": 216,
   "metadata": {
    "collapsed": false
   },
   "outputs": [
    {
     "data": {
      "image/png": "[encoded data removed]",
      "text/plain": [
       "<matplotlib.figure.Figure at 0x10f0ff590>"
      ]
     },
     "metadata": {},
     "output_type": "display_data"
    }
   ],
   "source": [
    "plt.plot(error_iteration_syn_sgd, 'r-', label='Train Error')\n",
    "plt.axis([0, 50, 0.7, 1.8])\n",
    "plt.ylabel('RMSE Training')\n",
    "plt.xlabel('SGD Iteration')\n",
    "plt.title('Change in Training Error vs SGD Iterations')\n",
    "l = plt.legend()\n",
    "plt.show()"
   ]
  },
  {
   "cell_type": "markdown",
   "metadata": {
    "collapsed": true
   },
   "source": [
    "## Conclusion\n",
    "\n",
    "On comparing the performance of the two methods we observe that for the closed form solution approach, we need to calculate NxM design matrix for each values of M. So that becomes approximately NxM2. However for small number of features M is a constant and run time will be in the order of N.\n",
    "\n",
    "In comparison, for stochastic gradient descent approach we need to calculate nxM order design matrix. (n<N, where n is the value when the error change becomes minimal). However if we have a design matrix already computed the runtime is of the order nxM. Computing the whole design matrix, or saving the already computed values iteratively results in a much faster implementation of the gradient descent approach and will be much faster than closed form solution approach as n<N, for n being the value when we stop the weight matrix iterations when the error change become significantly small. \n",
    "\n",
    "Thus we have successfully applied Closed form Solution approach and Stochastic Gradient Descent algorithm for training a linear regression model on the LeToR dataset and the synthetic dataset."
   ]
  }
 ],
 "metadata": {
  "kernelspec": {
   "display_name": "Python 2",
   "language": "python",
   "name": "python2"
  },
  "language_info": {
   "codemirror_mode": {
    "name": "ipython",
    "version": 2
   },
   "file_extension": ".py",
   "mimetype": "text/x-python",
   "name": "python",
   "nbconvert_exporter": "python",
   "pygments_lexer": "ipython2",
   "version": "2.7.12"
  }
 },
 "nbformat": 4,
 "nbformat_minor": 0
}
